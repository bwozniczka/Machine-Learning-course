{
 "cells": [
  {
   "cell_type": "code",
   "id": "initial_id",
   "metadata": {
    "ExecuteTime": {
     "end_time": "2024-05-21T21:52:52.379577Z",
     "start_time": "2024-05-21T21:52:48.207365Z"
    }
   },
   "source": [
    "import tensorflow as tf\n",
    "from sklearn.preprocessing import MinMaxScaler\n",
    "\n",
    "fashion_mnist = tf.keras.datasets.fashion_mnist\n",
    "(X_train, y_train), (X_test, y_test) = fashion_mnist.load_data()\n",
    "\n",
    "assert X_train.shape == (60000, 28, 28)\n",
    "assert X_test.shape == (10000, 28, 28)\n",
    "assert y_train.shape == (60000,)\n",
    "assert y_test.shape == (10000,)\n",
    "\n",
    "X_train = X_train.reshape(-1, 1)\n",
    "X_test = X_test.reshape(-1, 1)\n",
    "\n",
    "scaler = MinMaxScaler()\n",
    "X_train = scaler.fit_transform(X_train)\n",
    "X_test = scaler.transform(X_test)\n",
    "\n",
    "X_train = X_train.reshape(60000, 28, 28)\n",
    "X_test = X_test.reshape(10000, 28, 28)"
   ],
   "outputs": [
    {
     "name": "stderr",
     "output_type": "stream",
     "text": [
      "/Users/bartlomiejwozniczka/Desktop/MachineLearning/.venv/lib/python3.9/site-packages/urllib3/__init__.py:35: NotOpenSSLWarning: urllib3 v2 only supports OpenSSL 1.1.1+, currently the 'ssl' module is compiled with 'LibreSSL 2.8.3'. See: https://github.com/urllib3/urllib3/issues/3020\n",
      "  warnings.warn(\n"
     ]
    }
   ],
   "execution_count": 1
  },
  {
   "cell_type": "code",
   "id": "74c8282868bda86a",
   "metadata": {
    "ExecuteTime": {
     "end_time": "2024-05-21T21:52:52.665582Z",
     "start_time": "2024-05-21T21:52:52.380858Z"
    }
   },
   "source": [
    "import matplotlib.pyplot as plt\n",
    "plt.imshow(X_train[2137], cmap='binary')\n",
    "plt.axis('off')\n",
    "plt.show()"
   ],
   "outputs": [
    {
     "data": {
      "text/plain": [
       "<Figure size 640x480 with 1 Axes>"
      ],
      "image/png": "[encoded data removed]"
     },
     "metadata": {},
     "output_type": "display_data"
    }
   ],
   "execution_count": 2
  },
  {
   "cell_type": "code",
   "id": "46a80fc8e271555b",
   "metadata": {
    "ExecuteTime": {
     "end_time": "2024-05-21T21:52:52.754519Z",
     "start_time": "2024-05-21T21:52:52.673945Z"
    }
   },
   "source": [
    "class_names = [\"koszulka\", \"spodnie\", \"pulower\", \"sukienka\", \"kurtka\",\n",
    "               \"sandał\", \"koszula\", \"but\", \"torba\", \"kozak\"]\n",
    "class_names[y_train[2137]]"
   ],
   "outputs": [
    {
     "data": {
      "text/plain": [
       "'sukienka'"
      ]
     },
     "execution_count": 3,
     "metadata": {},
     "output_type": "execute_result"
    }
   ],
   "execution_count": 3
  },
  {
   "cell_type": "code",
   "id": "b53344f958d415ca",
   "metadata": {
    "ExecuteTime": {
     "end_time": "2024-05-21T21:52:52.824970Z",
     "start_time": "2024-05-21T21:52:52.758683Z"
    }
   },
   "source": [
    "model = tf.keras.models.Sequential([\n",
    "    tf.keras.layers.Input(shape=(28, 28)),\n",
    "    tf.keras.layers.Flatten(),\n",
    "    tf.keras.layers.Dense(300, activation=\"relu\"),\n",
    "    tf.keras.layers.Dense(100, activation=\"relu\"),\n",
    "    tf.keras.layers.Dense(10, activation=\"softmax\")\n",
    "])\n",
    "model.summary()"
   ],
   "outputs": [
    {
     "data": {
      "text/plain": [
       "\u001B[1mModel: \"sequential\"\u001B[0m\n"
      ],
      "text/html": [
       "<pre style=\"white-space:pre;overflow-x:auto;line-height:normal;font-family:Menlo,'DejaVu Sans Mono',consolas,'Courier New',monospace\"><span style=\"font-weight: bold\">Model: \"sequential\"</span>\n",
       "</pre>\n"
      ]
     },
     "metadata": {},
     "output_type": "display_data"
    },
    {
     "data": {
      "text/plain": [
       "┏━━━━━━━━━━━━━━━━━━━━━━━━━━━━━━━━━┳━━━━━━━━━━━━━━━━━━━━━━━━┳━━━━━━━━━━━━━━━┓\n",
       "┃\u001B[1m \u001B[0m\u001B[1mLayer (type)                   \u001B[0m\u001B[1m \u001B[0m┃\u001B[1m \u001B[0m\u001B[1mOutput Shape          \u001B[0m\u001B[1m \u001B[0m┃\u001B[1m \u001B[0m\u001B[1m      Param #\u001B[0m\u001B[1m \u001B[0m┃\n",
       "┡━━━━━━━━━━━━━━━━━━━━━━━━━━━━━━━━━╇━━━━━━━━━━━━━━━━━━━━━━━━╇━━━━━━━━━━━━━━━┩\n",
       "│ flatten (\u001B[38;5;33mFlatten\u001B[0m)               │ (\u001B[38;5;45mNone\u001B[0m, \u001B[38;5;34m784\u001B[0m)            │             \u001B[38;5;34m0\u001B[0m │\n",
       "├─────────────────────────────────┼────────────────────────┼───────────────┤\n",
       "│ dense (\u001B[38;5;33mDense\u001B[0m)                   │ (\u001B[38;5;45mNone\u001B[0m, \u001B[38;5;34m300\u001B[0m)            │       \u001B[38;5;34m235,500\u001B[0m │\n",
       "├─────────────────────────────────┼────────────────────────┼───────────────┤\n",
       "│ dense_1 (\u001B[38;5;33mDense\u001B[0m)                 │ (\u001B[38;5;45mNone\u001B[0m, \u001B[38;5;34m100\u001B[0m)            │        \u001B[38;5;34m30,100\u001B[0m │\n",
       "├─────────────────────────────────┼────────────────────────┼───────────────┤\n",
       "│ dense_2 (\u001B[38;5;33mDense\u001B[0m)                 │ (\u001B[38;5;45mNone\u001B[0m, \u001B[38;5;34m10\u001B[0m)             │         \u001B[38;5;34m1,010\u001B[0m │\n",
       "└─────────────────────────────────┴────────────────────────┴───────────────┘\n"
      ],
      "text/html": [
       "<pre style=\"white-space:pre;overflow-x:auto;line-height:normal;font-family:Menlo,'DejaVu Sans Mono',consolas,'Courier New',monospace\">┏━━━━━━━━━━━━━━━━━━━━━━━━━━━━━━━━━┳━━━━━━━━━━━━━━━━━━━━━━━━┳━━━━━━━━━━━━━━━┓\n",
       "┃<span style=\"font-weight: bold\"> Layer (type)                    </span>┃<span style=\"font-weight: bold\"> Output Shape           </span>┃<span style=\"font-weight: bold\">       Param # </span>┃\n",
       "┡━━━━━━━━━━━━━━━━━━━━━━━━━━━━━━━━━╇━━━━━━━━━━━━━━━━━━━━━━━━╇━━━━━━━━━━━━━━━┩\n",
       "│ flatten (<span style=\"color: #0087ff; text-decoration-color: #0087ff\">Flatten</span>)               │ (<span style=\"color: #00d7ff; text-decoration-color: #00d7ff\">None</span>, <span style=\"color: #00af00; text-decoration-color: #00af00\">784</span>)            │             <span style=\"color: #00af00; text-decoration-color: #00af00\">0</span> │\n",
       "├─────────────────────────────────┼────────────────────────┼───────────────┤\n",
       "│ dense (<span style=\"color: #0087ff; text-decoration-color: #0087ff\">Dense</span>)                   │ (<span style=\"color: #00d7ff; text-decoration-color: #00d7ff\">None</span>, <span style=\"color: #00af00; text-decoration-color: #00af00\">300</span>)            │       <span style=\"color: #00af00; text-decoration-color: #00af00\">235,500</span> │\n",
       "├─────────────────────────────────┼────────────────────────┼───────────────┤\n",
       "│ dense_1 (<span style=\"color: #0087ff; text-decoration-color: #0087ff\">Dense</span>)                 │ (<span style=\"color: #00d7ff; text-decoration-color: #00d7ff\">None</span>, <span style=\"color: #00af00; text-decoration-color: #00af00\">100</span>)            │        <span style=\"color: #00af00; text-decoration-color: #00af00\">30,100</span> │\n",
       "├─────────────────────────────────┼────────────────────────┼───────────────┤\n",
       "│ dense_2 (<span style=\"color: #0087ff; text-decoration-color: #0087ff\">Dense</span>)                 │ (<span style=\"color: #00d7ff; text-decoration-color: #00d7ff\">None</span>, <span style=\"color: #00af00; text-decoration-color: #00af00\">10</span>)             │         <span style=\"color: #00af00; text-decoration-color: #00af00\">1,010</span> │\n",
       "└─────────────────────────────────┴────────────────────────┴───────────────┘\n",
       "</pre>\n"
      ]
     },
     "metadata": {},
     "output_type": "display_data"
    },
    {
     "data": {
      "text/plain": [
       "\u001B[1m Total params: \u001B[0m\u001B[38;5;34m266,610\u001B[0m (1.02 MB)\n"
      ],
      "text/html": [
       "<pre style=\"white-space:pre;overflow-x:auto;line-height:normal;font-family:Menlo,'DejaVu Sans Mono',consolas,'Courier New',monospace\"><span style=\"font-weight: bold\"> Total params: </span><span style=\"color: #00af00; text-decoration-color: #00af00\">266,610</span> (1.02 MB)\n",
       "</pre>\n"
      ]
     },
     "metadata": {},
     "output_type": "display_data"
    },
    {
     "data": {
      "text/plain": [
       "\u001B[1m Trainable params: \u001B[0m\u001B[38;5;34m266,610\u001B[0m (1.02 MB)\n"
      ],
      "text/html": [
       "<pre style=\"white-space:pre;overflow-x:auto;line-height:normal;font-family:Menlo,'DejaVu Sans Mono',consolas,'Courier New',monospace\"><span style=\"font-weight: bold\"> Trainable params: </span><span style=\"color: #00af00; text-decoration-color: #00af00\">266,610</span> (1.02 MB)\n",
       "</pre>\n"
      ]
     },
     "metadata": {},
     "output_type": "display_data"
    },
    {
     "data": {
      "text/plain": [
       "\u001B[1m Non-trainable params: \u001B[0m\u001B[38;5;34m0\u001B[0m (0.00 B)\n"
      ],
      "text/html": [
       "<pre style=\"white-space:pre;overflow-x:auto;line-height:normal;font-family:Menlo,'DejaVu Sans Mono',consolas,'Courier New',monospace\"><span style=\"font-weight: bold\"> Non-trainable params: </span><span style=\"color: #00af00; text-decoration-color: #00af00\">0</span> (0.00 B)\n",
       "</pre>\n"
      ]
     },
     "metadata": {},
     "output_type": "display_data"
    }
   ],
   "execution_count": 4
  },
  {
   "cell_type": "code",
   "id": "e0df2a288f7ecad9",
   "metadata": {
    "ExecuteTime": {
     "end_time": "2024-05-21T21:52:52.837562Z",
     "start_time": "2024-05-21T21:52:52.827286Z"
    }
   },
   "source": [
    "model.compile(loss=\"sparse_categorical_crossentropy\",\n",
    "              optimizer=\"sgd\",\n",
    "              metrics=[\"accuracy\"])"
   ],
   "outputs": [],
   "execution_count": 5
  },
  {
   "cell_type": "code",
   "id": "39311a251935ee28",
   "metadata": {
    "ExecuteTime": {
     "end_time": "2024-05-21T21:53:29.234103Z",
     "start_time": "2024-05-21T21:52:52.839358Z"
    }
   },
   "source": [
    "import os\n",
    "import time\n",
    "\n",
    "log = os.path.join(\"image_logs\", time.strftime(\"fit_%Y_%m_%d-%H_%M_%S\"))\n",
    "tensorboard_cb = tf.keras.callbacks.TensorBoard(log_dir=log)\n",
    "history = model.fit(X_train, y_train, epochs=20,\n",
    "                    validation_split=0.1,\n",
    "                    callbacks=[tensorboard_cb])"
   ],
   "outputs": [
    {
     "name": "stdout",
     "output_type": "stream",
     "text": [
      "Epoch 1/20\n",
      "\u001B[1m1688/1688\u001B[0m \u001B[32m━━━━━━━━━━━━━━━━━━━━\u001B[0m\u001B[37m\u001B[0m \u001B[1m2s\u001B[0m 1ms/step - accuracy: 0.6764 - loss: 1.0211 - val_accuracy: 0.8095 - val_loss: 0.5258\n",
      "Epoch 2/20\n",
      "\u001B[1m1688/1688\u001B[0m \u001B[32m━━━━━━━━━━━━━━━━━━━━\u001B[0m\u001B[37m\u001B[0m \u001B[1m2s\u001B[0m 968us/step - accuracy: 0.8246 - loss: 0.5016 - val_accuracy: 0.8255 - val_loss: 0.4903\n",
      "Epoch 3/20\n",
      "\u001B[1m1688/1688\u001B[0m \u001B[32m━━━━━━━━━━━━━━━━━━━━\u001B[0m\u001B[37m\u001B[0m \u001B[1m2s\u001B[0m 1ms/step - accuracy: 0.8474 - loss: 0.4393 - val_accuracy: 0.8503 - val_loss: 0.4214\n",
      "Epoch 4/20\n",
      "\u001B[1m1688/1688\u001B[0m \u001B[32m━━━━━━━━━━━━━━━━━━━━\u001B[0m\u001B[37m\u001B[0m \u001B[1m2s\u001B[0m 988us/step - accuracy: 0.8536 - loss: 0.4155 - val_accuracy: 0.8575 - val_loss: 0.4071\n",
      "Epoch 5/20\n",
      "\u001B[1m1688/1688\u001B[0m \u001B[32m━━━━━━━━━━━━━━━━━━━━\u001B[0m\u001B[37m\u001B[0m \u001B[1m2s\u001B[0m 982us/step - accuracy: 0.8609 - loss: 0.3973 - val_accuracy: 0.8507 - val_loss: 0.4191\n",
      "Epoch 6/20\n",
      "\u001B[1m1688/1688\u001B[0m \u001B[32m━━━━━━━━━━━━━━━━━━━━\u001B[0m\u001B[37m\u001B[0m \u001B[1m2s\u001B[0m 1ms/step - accuracy: 0.8622 - loss: 0.3868 - val_accuracy: 0.8608 - val_loss: 0.3960\n",
      "Epoch 7/20\n",
      "\u001B[1m1688/1688\u001B[0m \u001B[32m━━━━━━━━━━━━━━━━━━━━\u001B[0m\u001B[37m\u001B[0m \u001B[1m2s\u001B[0m 1ms/step - accuracy: 0.8699 - loss: 0.3674 - val_accuracy: 0.8515 - val_loss: 0.4098\n",
      "Epoch 8/20\n",
      "\u001B[1m1688/1688\u001B[0m \u001B[32m━━━━━━━━━━━━━━━━━━━━\u001B[0m\u001B[37m\u001B[0m \u001B[1m2s\u001B[0m 1ms/step - accuracy: 0.8723 - loss: 0.3567 - val_accuracy: 0.8703 - val_loss: 0.3694\n",
      "Epoch 9/20\n",
      "\u001B[1m1688/1688\u001B[0m \u001B[32m━━━━━━━━━━━━━━━━━━━━\u001B[0m\u001B[37m\u001B[0m \u001B[1m2s\u001B[0m 1ms/step - accuracy: 0.8790 - loss: 0.3430 - val_accuracy: 0.8635 - val_loss: 0.3718\n",
      "Epoch 10/20\n",
      "\u001B[1m1688/1688\u001B[0m \u001B[32m━━━━━━━━━━━━━━━━━━━━\u001B[0m\u001B[37m\u001B[0m \u001B[1m2s\u001B[0m 1ms/step - accuracy: 0.8818 - loss: 0.3294 - val_accuracy: 0.8665 - val_loss: 0.3856\n",
      "Epoch 11/20\n",
      "\u001B[1m1688/1688\u001B[0m \u001B[32m━━━━━━━━━━━━━━━━━━━━\u001B[0m\u001B[37m\u001B[0m \u001B[1m2s\u001B[0m 1ms/step - accuracy: 0.8860 - loss: 0.3218 - val_accuracy: 0.8603 - val_loss: 0.4068\n",
      "Epoch 12/20\n",
      "\u001B[1m1688/1688\u001B[0m \u001B[32m━━━━━━━━━━━━━━━━━━━━\u001B[0m\u001B[37m\u001B[0m \u001B[1m2s\u001B[0m 1ms/step - accuracy: 0.8853 - loss: 0.3195 - val_accuracy: 0.8768 - val_loss: 0.3498\n",
      "Epoch 13/20\n",
      "\u001B[1m1688/1688\u001B[0m \u001B[32m━━━━━━━━━━━━━━━━━━━━\u001B[0m\u001B[37m\u001B[0m \u001B[1m2s\u001B[0m 1ms/step - accuracy: 0.8886 - loss: 0.3091 - val_accuracy: 0.8765 - val_loss: 0.3432\n",
      "Epoch 14/20\n",
      "\u001B[1m1688/1688\u001B[0m \u001B[32m━━━━━━━━━━━━━━━━━━━━\u001B[0m\u001B[37m\u001B[0m \u001B[1m2s\u001B[0m 1ms/step - accuracy: 0.8887 - loss: 0.3060 - val_accuracy: 0.8755 - val_loss: 0.3489\n",
      "Epoch 15/20\n",
      "\u001B[1m1688/1688\u001B[0m \u001B[32m━━━━━━━━━━━━━━━━━━━━\u001B[0m\u001B[37m\u001B[0m \u001B[1m2s\u001B[0m 1ms/step - accuracy: 0.8951 - loss: 0.2958 - val_accuracy: 0.8767 - val_loss: 0.3441\n",
      "Epoch 16/20\n",
      "\u001B[1m1688/1688\u001B[0m \u001B[32m━━━━━━━━━━━━━━━━━━━━\u001B[0m\u001B[37m\u001B[0m \u001B[1m2s\u001B[0m 1ms/step - accuracy: 0.8954 - loss: 0.2942 - val_accuracy: 0.8752 - val_loss: 0.3436\n",
      "Epoch 17/20\n",
      "\u001B[1m1688/1688\u001B[0m \u001B[32m━━━━━━━━━━━━━━━━━━━━\u001B[0m\u001B[37m\u001B[0m \u001B[1m2s\u001B[0m 1ms/step - accuracy: 0.8978 - loss: 0.2832 - val_accuracy: 0.8812 - val_loss: 0.3290\n",
      "Epoch 18/20\n",
      "\u001B[1m1688/1688\u001B[0m \u001B[32m━━━━━━━━━━━━━━━━━━━━\u001B[0m\u001B[37m\u001B[0m \u001B[1m2s\u001B[0m 1ms/step - accuracy: 0.9009 - loss: 0.2810 - val_accuracy: 0.8835 - val_loss: 0.3212\n",
      "Epoch 19/20\n",
      "\u001B[1m1688/1688\u001B[0m \u001B[32m━━━━━━━━━━━━━━━━━━━━\u001B[0m\u001B[37m\u001B[0m \u001B[1m2s\u001B[0m 1ms/step - accuracy: 0.9024 - loss: 0.2741 - val_accuracy: 0.8687 - val_loss: 0.3578\n",
      "Epoch 20/20\n",
      "\u001B[1m1688/1688\u001B[0m \u001B[32m━━━━━━━━━━━━━━━━━━━━\u001B[0m\u001B[37m\u001B[0m \u001B[1m2s\u001B[0m 1ms/step - accuracy: 0.9042 - loss: 0.2655 - val_accuracy: 0.8795 - val_loss: 0.3249\n"
     ]
    }
   ],
   "execution_count": 6
  },
  {
   "cell_type": "code",
   "id": "6133a3588da55a37",
   "metadata": {
    "ExecuteTime": {
     "end_time": "2024-05-21T21:53:29.310036Z",
     "start_time": "2024-05-21T21:53:29.235434Z"
    }
   },
   "source": [
    "import numpy as np\n",
    "\n",
    "image_index = np.random.randint(len(X_test))\n",
    "image = np.array([X_test[image_index]])\n",
    "confidences = model.predict(image)\n",
    "confidence = np.max(confidences[0])\n",
    "prediction = np.argmax(confidences[0])\n",
    "print(\"Prediction:\", class_names[prediction])\n",
    "print(\"Confidence:\", confidence)\n",
    "print(\"Truth:\", class_names[y_test[image_index]])\n",
    "plt.imshow(image[0], cmap=\"binary\")\n",
    "plt.axis('off')\n",
    "plt.show()"
   ],
   "outputs": [
    {
     "name": "stdout",
     "output_type": "stream",
     "text": [
      "\u001B[1m1/1\u001B[0m \u001B[32m━━━━━━━━━━━━━━━━━━━━\u001B[0m\u001B[37m\u001B[0m \u001B[1m0s\u001B[0m 20ms/step\n",
      "Prediction: kurtka\n",
      "Confidence: 0.78047097\n",
      "Truth: kurtka\n"
     ]
    },
    {
     "data": {
      "text/plain": [
       "<Figure size 640x480 with 1 Axes>"
      ],
      "image/png": "[encoded data removed]"
     },
     "metadata": {},
     "output_type": "display_data"
    }
   ],
   "execution_count": 7
  },
  {
   "cell_type": "code",
   "id": "736eba82c24155df",
   "metadata": {
    "ExecuteTime": {
     "end_time": "2024-05-21T21:53:29.355540Z",
     "start_time": "2024-05-21T21:53:29.311441Z"
    }
   },
   "source": [
    "model.save(\"fashion_clf.keras\")"
   ],
   "outputs": [],
   "execution_count": 8
  },
  {
   "cell_type": "code",
   "id": "e4ea687cec2a25fa",
   "metadata": {
    "ExecuteTime": {
     "end_time": "2024-05-21T21:53:29.564960Z",
     "start_time": "2024-05-21T21:53:29.357263Z"
    }
   },
   "source": [
    "from sklearn.datasets import fetch_california_housing\n",
    "from sklearn.model_selection import train_test_split \n",
    "from sklearn.preprocessing import StandardScaler\n",
    "\n",
    "housing = fetch_california_housing()\n",
    "housing.data.shape"
   ],
   "outputs": [
    {
     "data": {
      "text/plain": [
       "(20640, 8)"
      ]
     },
     "execution_count": 9,
     "metadata": {},
     "output_type": "execute_result"
    }
   ],
   "execution_count": 9
  },
  {
   "cell_type": "code",
   "id": "cbb3aeffd836ea97",
   "metadata": {
    "ExecuteTime": {
     "end_time": "2024-05-21T21:53:29.596084Z",
     "start_time": "2024-05-21T21:53:29.567177Z"
    }
   },
   "source": [
    "X = housing.data\n",
    "y = housing.target\n",
    "X_train, X_test, y_train, y_test = train_test_split(X, y , test_size=0.2, random_state=42)\n",
    "X_train, X_val, y_train, y_val = train_test_split(X_train, y_train, test_size=0.1, random_state=42)\n",
    "scaler  = StandardScaler()\n",
    "X_train_scaled = scaler.fit_transform(X_train)\n",
    "X_val_scaled = scaler.transform(X_val)\n",
    "X_test_scaled = scaler.transform(X_test)\n",
    "print(X_train.shape, X_val.shape, X_test.shape)"
   ],
   "outputs": [
    {
     "name": "stdout",
     "output_type": "stream",
     "text": [
      "(14860, 8) (1652, 8) (4128, 8)\n"
     ]
    }
   ],
   "execution_count": 10
  },
  {
   "cell_type": "code",
   "id": "ffff88dfe701a900",
   "metadata": {
    "ExecuteTime": {
     "end_time": "2024-05-21T21:53:29.599807Z",
     "start_time": "2024-05-21T21:53:29.597246Z"
    }
   },
   "source": [
    "print(X_train_scaled.shape)  \n",
    "print(X_val_scaled.shape)    \n"
   ],
   "outputs": [
    {
     "name": "stdout",
     "output_type": "stream",
     "text": [
      "(14860, 8)\n",
      "(1652, 8)\n"
     ]
    }
   ],
   "execution_count": 11
  },
  {
   "cell_type": "code",
   "id": "87d13c0b941787d",
   "metadata": {
    "ExecuteTime": {
     "end_time": "2024-05-21T21:53:29.622367Z",
     "start_time": "2024-05-21T21:53:29.600924Z"
    }
   },
   "source": [
    "import tensorflow as tf\n",
    "\n",
    "inputs = tf.keras.Input(shape=(X_train.shape[1],))\n",
    "x = tf.keras.layers.Flatten()(inputs)\n",
    "x = tf.keras.layers.Dense(50, activation=\"relu\")(x)\n",
    "x = tf.keras.layers.Dense(50, activation=\"relu\")(x)\n",
    "x = tf.keras.layers.Dense(50, activation=\"relu\")(x)\n",
    "outputs = tf.keras.layers.Dense(1)(x)\n",
    "\n",
    "model2 = tf.keras.Model(inputs=inputs, outputs=outputs)\n",
    "\n",
    "model2.summary()\n"
   ],
   "outputs": [
    {
     "data": {
      "text/plain": [
       "\u001B[1mModel: \"functional_2\"\u001B[0m\n"
      ],
      "text/html": [
       "<pre style=\"white-space:pre;overflow-x:auto;line-height:normal;font-family:Menlo,'DejaVu Sans Mono',consolas,'Courier New',monospace\"><span style=\"font-weight: bold\">Model: \"functional_2\"</span>\n",
       "</pre>\n"
      ]
     },
     "metadata": {},
     "output_type": "display_data"
    },
    {
     "data": {
      "text/plain": [
       "┏━━━━━━━━━━━━━━━━━━━━━━━━━━━━━━━━━┳━━━━━━━━━━━━━━━━━━━━━━━━┳━━━━━━━━━━━━━━━┓\n",
       "┃\u001B[1m \u001B[0m\u001B[1mLayer (type)                   \u001B[0m\u001B[1m \u001B[0m┃\u001B[1m \u001B[0m\u001B[1mOutput Shape          \u001B[0m\u001B[1m \u001B[0m┃\u001B[1m \u001B[0m\u001B[1m      Param #\u001B[0m\u001B[1m \u001B[0m┃\n",
       "┡━━━━━━━━━━━━━━━━━━━━━━━━━━━━━━━━━╇━━━━━━━━━━━━━━━━━━━━━━━━╇━━━━━━━━━━━━━━━┩\n",
       "│ input_layer_1 (\u001B[38;5;33mInputLayer\u001B[0m)      │ (\u001B[38;5;45mNone\u001B[0m, \u001B[38;5;34m8\u001B[0m)              │             \u001B[38;5;34m0\u001B[0m │\n",
       "├─────────────────────────────────┼────────────────────────┼───────────────┤\n",
       "│ flatten_1 (\u001B[38;5;33mFlatten\u001B[0m)             │ (\u001B[38;5;45mNone\u001B[0m, \u001B[38;5;34m8\u001B[0m)              │             \u001B[38;5;34m0\u001B[0m │\n",
       "├─────────────────────────────────┼────────────────────────┼───────────────┤\n",
       "│ dense_3 (\u001B[38;5;33mDense\u001B[0m)                 │ (\u001B[38;5;45mNone\u001B[0m, \u001B[38;5;34m50\u001B[0m)             │           \u001B[38;5;34m450\u001B[0m │\n",
       "├─────────────────────────────────┼────────────────────────┼───────────────┤\n",
       "│ dense_4 (\u001B[38;5;33mDense\u001B[0m)                 │ (\u001B[38;5;45mNone\u001B[0m, \u001B[38;5;34m50\u001B[0m)             │         \u001B[38;5;34m2,550\u001B[0m │\n",
       "├─────────────────────────────────┼────────────────────────┼───────────────┤\n",
       "│ dense_5 (\u001B[38;5;33mDense\u001B[0m)                 │ (\u001B[38;5;45mNone\u001B[0m, \u001B[38;5;34m50\u001B[0m)             │         \u001B[38;5;34m2,550\u001B[0m │\n",
       "├─────────────────────────────────┼────────────────────────┼───────────────┤\n",
       "│ dense_6 (\u001B[38;5;33mDense\u001B[0m)                 │ (\u001B[38;5;45mNone\u001B[0m, \u001B[38;5;34m1\u001B[0m)              │            \u001B[38;5;34m51\u001B[0m │\n",
       "└─────────────────────────────────┴────────────────────────┴───────────────┘\n"
      ],
      "text/html": [
       "<pre style=\"white-space:pre;overflow-x:auto;line-height:normal;font-family:Menlo,'DejaVu Sans Mono',consolas,'Courier New',monospace\">┏━━━━━━━━━━━━━━━━━━━━━━━━━━━━━━━━━┳━━━━━━━━━━━━━━━━━━━━━━━━┳━━━━━━━━━━━━━━━┓\n",
       "┃<span style=\"font-weight: bold\"> Layer (type)                    </span>┃<span style=\"font-weight: bold\"> Output Shape           </span>┃<span style=\"font-weight: bold\">       Param # </span>┃\n",
       "┡━━━━━━━━━━━━━━━━━━━━━━━━━━━━━━━━━╇━━━━━━━━━━━━━━━━━━━━━━━━╇━━━━━━━━━━━━━━━┩\n",
       "│ input_layer_1 (<span style=\"color: #0087ff; text-decoration-color: #0087ff\">InputLayer</span>)      │ (<span style=\"color: #00d7ff; text-decoration-color: #00d7ff\">None</span>, <span style=\"color: #00af00; text-decoration-color: #00af00\">8</span>)              │             <span style=\"color: #00af00; text-decoration-color: #00af00\">0</span> │\n",
       "├─────────────────────────────────┼────────────────────────┼───────────────┤\n",
       "│ flatten_1 (<span style=\"color: #0087ff; text-decoration-color: #0087ff\">Flatten</span>)             │ (<span style=\"color: #00d7ff; text-decoration-color: #00d7ff\">None</span>, <span style=\"color: #00af00; text-decoration-color: #00af00\">8</span>)              │             <span style=\"color: #00af00; text-decoration-color: #00af00\">0</span> │\n",
       "├─────────────────────────────────┼────────────────────────┼───────────────┤\n",
       "│ dense_3 (<span style=\"color: #0087ff; text-decoration-color: #0087ff\">Dense</span>)                 │ (<span style=\"color: #00d7ff; text-decoration-color: #00d7ff\">None</span>, <span style=\"color: #00af00; text-decoration-color: #00af00\">50</span>)             │           <span style=\"color: #00af00; text-decoration-color: #00af00\">450</span> │\n",
       "├─────────────────────────────────┼────────────────────────┼───────────────┤\n",
       "│ dense_4 (<span style=\"color: #0087ff; text-decoration-color: #0087ff\">Dense</span>)                 │ (<span style=\"color: #00d7ff; text-decoration-color: #00d7ff\">None</span>, <span style=\"color: #00af00; text-decoration-color: #00af00\">50</span>)             │         <span style=\"color: #00af00; text-decoration-color: #00af00\">2,550</span> │\n",
       "├─────────────────────────────────┼────────────────────────┼───────────────┤\n",
       "│ dense_5 (<span style=\"color: #0087ff; text-decoration-color: #0087ff\">Dense</span>)                 │ (<span style=\"color: #00d7ff; text-decoration-color: #00d7ff\">None</span>, <span style=\"color: #00af00; text-decoration-color: #00af00\">50</span>)             │         <span style=\"color: #00af00; text-decoration-color: #00af00\">2,550</span> │\n",
       "├─────────────────────────────────┼────────────────────────┼───────────────┤\n",
       "│ dense_6 (<span style=\"color: #0087ff; text-decoration-color: #0087ff\">Dense</span>)                 │ (<span style=\"color: #00d7ff; text-decoration-color: #00d7ff\">None</span>, <span style=\"color: #00af00; text-decoration-color: #00af00\">1</span>)              │            <span style=\"color: #00af00; text-decoration-color: #00af00\">51</span> │\n",
       "└─────────────────────────────────┴────────────────────────┴───────────────┘\n",
       "</pre>\n"
      ]
     },
     "metadata": {},
     "output_type": "display_data"
    },
    {
     "data": {
      "text/plain": [
       "\u001B[1m Total params: \u001B[0m\u001B[38;5;34m5,601\u001B[0m (21.88 KB)\n"
      ],
      "text/html": [
       "<pre style=\"white-space:pre;overflow-x:auto;line-height:normal;font-family:Menlo,'DejaVu Sans Mono',consolas,'Courier New',monospace\"><span style=\"font-weight: bold\"> Total params: </span><span style=\"color: #00af00; text-decoration-color: #00af00\">5,601</span> (21.88 KB)\n",
       "</pre>\n"
      ]
     },
     "metadata": {},
     "output_type": "display_data"
    },
    {
     "data": {
      "text/plain": [
       "\u001B[1m Trainable params: \u001B[0m\u001B[38;5;34m5,601\u001B[0m (21.88 KB)\n"
      ],
      "text/html": [
       "<pre style=\"white-space:pre;overflow-x:auto;line-height:normal;font-family:Menlo,'DejaVu Sans Mono',consolas,'Courier New',monospace\"><span style=\"font-weight: bold\"> Trainable params: </span><span style=\"color: #00af00; text-decoration-color: #00af00\">5,601</span> (21.88 KB)\n",
       "</pre>\n"
      ]
     },
     "metadata": {},
     "output_type": "display_data"
    },
    {
     "data": {
      "text/plain": [
       "\u001B[1m Non-trainable params: \u001B[0m\u001B[38;5;34m0\u001B[0m (0.00 B)\n"
      ],
      "text/html": [
       "<pre style=\"white-space:pre;overflow-x:auto;line-height:normal;font-family:Menlo,'DejaVu Sans Mono',consolas,'Courier New',monospace\"><span style=\"font-weight: bold\"> Non-trainable params: </span><span style=\"color: #00af00; text-decoration-color: #00af00\">0</span> (0.00 B)\n",
       "</pre>\n"
      ]
     },
     "metadata": {},
     "output_type": "display_data"
    }
   ],
   "execution_count": 12
  },
  {
   "cell_type": "code",
   "id": "c24e26d5064a2709",
   "metadata": {
    "ExecuteTime": {
     "end_time": "2024-05-21T21:53:29.628777Z",
     "start_time": "2024-05-21T21:53:29.623014Z"
    }
   },
   "source": [
    "from keras.src.metrics import RootMeanSquaredError\n",
    "\n",
    "model2.compile(loss=\"mean_squared_error\",\n",
    "              optimizer=\"Adam\",\n",
    "              metrics=[RootMeanSquaredError()])"
   ],
   "outputs": [],
   "execution_count": 13
  },
  {
   "cell_type": "code",
   "id": "e9b07f80a174e5ed",
   "metadata": {
    "ExecuteTime": {
     "end_time": "2024-05-21T21:53:29.631446Z",
     "start_time": "2024-05-21T21:53:29.629413Z"
    }
   },
   "source": [
    "early_stopping = tf.keras.callbacks.EarlyStopping(\n",
    "    monitor='val_loss',\n",
    "    min_delta=0.01,\n",
    "    patience=5,\n",
    "    verbose=1,\n",
    "    mode='auto',\n",
    "    baseline=None,\n",
    "    restore_best_weights=False,\n",
    "    start_from_epoch=0\n",
    ")\n"
   ],
   "outputs": [],
   "execution_count": 14
  },
  {
   "cell_type": "code",
   "id": "200480398b9abb76",
   "metadata": {
    "ExecuteTime": {
     "end_time": "2024-05-21T21:53:36.464793Z",
     "start_time": "2024-05-21T21:53:29.632295Z"
    }
   },
   "source": [
    "tensorboard_callback = tf.keras.callbacks.TensorBoard(log_dir=\"housing_logs\", histogram_freq=1)\n",
    "\n",
    "history2 = model2.fit(X_train_scaled, y_train, epochs=50, batch_size=32, verbose=1,\n",
    "                      validation_data=(X_val_scaled, y_val),\n",
    "                      callbacks=[early_stopping, tensorboard_callback])\n",
    "\n",
    "history3 = model2.fit(X_train_scaled, y_train, epochs=100, batch_size=32, verbose=1,\n",
    "                      validation_data=(X_val_scaled, y_val),\n",
    "                      callbacks=[early_stopping, tensorboard_callback])\n",
    "\n"
   ],
   "outputs": [
    {
     "name": "stdout",
     "output_type": "stream",
     "text": [
      "Epoch 1/50\n",
      "\u001B[1m465/465\u001B[0m \u001B[32m━━━━━━━━━━━━━━━━━━━━\u001B[0m\u001B[37m\u001B[0m \u001B[1m1s\u001B[0m 724us/step - loss: 1.6321 - root_mean_squared_error: 1.2388 - val_loss: 0.4571 - val_root_mean_squared_error: 0.6761\n",
      "Epoch 2/50\n",
      "\u001B[1m465/465\u001B[0m \u001B[32m━━━━━━━━━━━━━━━━━━━━\u001B[0m\u001B[37m\u001B[0m \u001B[1m0s\u001B[0m 582us/step - loss: 0.3996 - root_mean_squared_error: 0.6320 - val_loss: 0.4014 - val_root_mean_squared_error: 0.6336\n",
      "Epoch 3/50\n",
      "\u001B[1m465/465\u001B[0m \u001B[32m━━━━━━━━━━━━━━━━━━━━\u001B[0m\u001B[37m\u001B[0m \u001B[1m0s\u001B[0m 574us/step - loss: 0.3586 - root_mean_squared_error: 0.5988 - val_loss: 0.3942 - val_root_mean_squared_error: 0.6278\n",
      "Epoch 4/50\n",
      "\u001B[1m465/465\u001B[0m \u001B[32m━━━━━━━━━━━━━━━━━━━━\u001B[0m\u001B[37m\u001B[0m \u001B[1m0s\u001B[0m 565us/step - loss: 0.3364 - root_mean_squared_error: 0.5799 - val_loss: 0.3727 - val_root_mean_squared_error: 0.6105\n",
      "Epoch 5/50\n",
      "\u001B[1m465/465\u001B[0m \u001B[32m━━━━━━━━━━━━━━━━━━━━\u001B[0m\u001B[37m\u001B[0m \u001B[1m0s\u001B[0m 576us/step - loss: 0.3338 - root_mean_squared_error: 0.5775 - val_loss: 0.3676 - val_root_mean_squared_error: 0.6063\n",
      "Epoch 6/50\n",
      "\u001B[1m465/465\u001B[0m \u001B[32m━━━━━━━━━━━━━━━━━━━━\u001B[0m\u001B[37m\u001B[0m \u001B[1m0s\u001B[0m 554us/step - loss: 0.3116 - root_mean_squared_error: 0.5582 - val_loss: 0.3723 - val_root_mean_squared_error: 0.6101\n",
      "Epoch 7/50\n",
      "\u001B[1m465/465\u001B[0m \u001B[32m━━━━━━━━━━━━━━━━━━━━\u001B[0m\u001B[37m\u001B[0m \u001B[1m0s\u001B[0m 560us/step - loss: 0.3113 - root_mean_squared_error: 0.5579 - val_loss: 0.3461 - val_root_mean_squared_error: 0.5883\n",
      "Epoch 8/50\n",
      "\u001B[1m465/465\u001B[0m \u001B[32m━━━━━━━━━━━━━━━━━━━━\u001B[0m\u001B[37m\u001B[0m \u001B[1m0s\u001B[0m 556us/step - loss: 0.2908 - root_mean_squared_error: 0.5391 - val_loss: 0.3574 - val_root_mean_squared_error: 0.5978\n",
      "Epoch 9/50\n",
      "\u001B[1m465/465\u001B[0m \u001B[32m━━━━━━━━━━━━━━━━━━━━\u001B[0m\u001B[37m\u001B[0m \u001B[1m0s\u001B[0m 559us/step - loss: 0.2960 - root_mean_squared_error: 0.5439 - val_loss: 0.3372 - val_root_mean_squared_error: 0.5807\n",
      "Epoch 10/50\n",
      "\u001B[1m465/465\u001B[0m \u001B[32m━━━━━━━━━━━━━━━━━━━━\u001B[0m\u001B[37m\u001B[0m \u001B[1m0s\u001B[0m 563us/step - loss: 0.2937 - root_mean_squared_error: 0.5417 - val_loss: 0.3270 - val_root_mean_squared_error: 0.5718\n",
      "Epoch 11/50\n",
      "\u001B[1m465/465\u001B[0m \u001B[32m━━━━━━━━━━━━━━━━━━━━\u001B[0m\u001B[37m\u001B[0m \u001B[1m0s\u001B[0m 556us/step - loss: 0.2932 - root_mean_squared_error: 0.5413 - val_loss: 0.3441 - val_root_mean_squared_error: 0.5866\n",
      "Epoch 12/50\n",
      "\u001B[1m465/465\u001B[0m \u001B[32m━━━━━━━━━━━━━━━━━━━━\u001B[0m\u001B[37m\u001B[0m \u001B[1m0s\u001B[0m 558us/step - loss: 0.2829 - root_mean_squared_error: 0.5318 - val_loss: 0.3397 - val_root_mean_squared_error: 0.5828\n",
      "Epoch 13/50\n",
      "\u001B[1m465/465\u001B[0m \u001B[32m━━━━━━━━━━━━━━━━━━━━\u001B[0m\u001B[37m\u001B[0m \u001B[1m0s\u001B[0m 554us/step - loss: 0.2912 - root_mean_squared_error: 0.5394 - val_loss: 0.3095 - val_root_mean_squared_error: 0.5563\n",
      "Epoch 14/50\n",
      "\u001B[1m465/465\u001B[0m \u001B[32m━━━━━━━━━━━━━━━━━━━━\u001B[0m\u001B[37m\u001B[0m \u001B[1m0s\u001B[0m 559us/step - loss: 0.2916 - root_mean_squared_error: 0.5399 - val_loss: 0.3245 - val_root_mean_squared_error: 0.5697\n",
      "Epoch 15/50\n",
      "\u001B[1m465/465\u001B[0m \u001B[32m━━━━━━━━━━━━━━━━━━━━\u001B[0m\u001B[37m\u001B[0m \u001B[1m0s\u001B[0m 556us/step - loss: 0.2867 - root_mean_squared_error: 0.5352 - val_loss: 0.3112 - val_root_mean_squared_error: 0.5578\n",
      "Epoch 16/50\n",
      "\u001B[1m465/465\u001B[0m \u001B[32m━━━━━━━━━━━━━━━━━━━━\u001B[0m\u001B[37m\u001B[0m \u001B[1m0s\u001B[0m 557us/step - loss: 0.2806 - root_mean_squared_error: 0.5296 - val_loss: 0.3062 - val_root_mean_squared_error: 0.5533\n",
      "Epoch 17/50\n",
      "\u001B[1m465/465\u001B[0m \u001B[32m━━━━━━━━━━━━━━━━━━━━\u001B[0m\u001B[37m\u001B[0m \u001B[1m0s\u001B[0m 554us/step - loss: 0.2729 - root_mean_squared_error: 0.5222 - val_loss: 0.3177 - val_root_mean_squared_error: 0.5637\n",
      "Epoch 18/50\n",
      "\u001B[1m465/465\u001B[0m \u001B[32m━━━━━━━━━━━━━━━━━━━━\u001B[0m\u001B[37m\u001B[0m \u001B[1m0s\u001B[0m 560us/step - loss: 0.2676 - root_mean_squared_error: 0.5173 - val_loss: 0.3238 - val_root_mean_squared_error: 0.5690\n",
      "Epoch 18: early stopping\n",
      "Epoch 1/100\n",
      "\u001B[1m465/465\u001B[0m \u001B[32m━━━━━━━━━━━━━━━━━━━━\u001B[0m\u001B[37m\u001B[0m \u001B[1m0s\u001B[0m 614us/step - loss: 0.2585 - root_mean_squared_error: 0.5082 - val_loss: 0.3170 - val_root_mean_squared_error: 0.5630\n",
      "Epoch 2/100\n",
      "\u001B[1m465/465\u001B[0m \u001B[32m━━━━━━━━━━━━━━━━━━━━\u001B[0m\u001B[37m\u001B[0m \u001B[1m0s\u001B[0m 583us/step - loss: 0.2660 - root_mean_squared_error: 0.5157 - val_loss: 0.3226 - val_root_mean_squared_error: 0.5680\n",
      "Epoch 3/100\n",
      "\u001B[1m465/465\u001B[0m \u001B[32m━━━━━━━━━━━━━━━━━━━━\u001B[0m\u001B[37m\u001B[0m \u001B[1m0s\u001B[0m 649us/step - loss: 0.2740 - root_mean_squared_error: 0.5234 - val_loss: 0.3100 - val_root_mean_squared_error: 0.5568\n",
      "Epoch 4/100\n",
      "\u001B[1m465/465\u001B[0m \u001B[32m━━━━━━━━━━━━━━━━━━━━\u001B[0m\u001B[37m\u001B[0m \u001B[1m0s\u001B[0m 636us/step - loss: 0.2698 - root_mean_squared_error: 0.5193 - val_loss: 0.3175 - val_root_mean_squared_error: 0.5635\n",
      "Epoch 5/100\n",
      "\u001B[1m465/465\u001B[0m \u001B[32m━━━━━━━━━━━━━━━━━━━━\u001B[0m\u001B[37m\u001B[0m \u001B[1m0s\u001B[0m 588us/step - loss: 0.2517 - root_mean_squared_error: 0.5016 - val_loss: 0.3271 - val_root_mean_squared_error: 0.5719\n",
      "Epoch 5: early stopping\n"
     ]
    }
   ],
   "execution_count": 15
  },
  {
   "cell_type": "code",
   "id": "ab33677fcf1250d9",
   "metadata": {
    "ExecuteTime": {
     "end_time": "2024-05-21T21:53:36.478822Z",
     "start_time": "2024-05-21T21:53:36.465629Z"
    }
   },
   "source": [
    "model2.save(\"reg_housing_1.keras\")"
   ],
   "outputs": [],
   "execution_count": 16
  },
  {
   "cell_type": "code",
   "id": "8ba151dac861031d",
   "metadata": {
    "ExecuteTime": {
     "end_time": "2024-05-21T21:53:36.496003Z",
     "start_time": "2024-05-21T21:53:36.479762Z"
    }
   },
   "source": [
    "from keras.src.layers import Dense\n",
    "\n",
    "inputs = tf.keras.Input(shape=(X_train.shape[1],))\n",
    "x = tf.keras.layers.Flatten()(inputs)\n",
    "x = tf.keras.layers.Dense(100, activation=\"relu\")(x)\n",
    "x = tf.keras.layers.Dense(50, activation=\"relu\")(x)\n",
    "x = tf.keras.layers.Dense(50, activation=\"relu\")(x)\n",
    "outputs = tf.keras.layers.Dense(1)(x)\n",
    "\n",
    "model3 = tf.keras.Model(inputs=inputs, outputs=outputs)"
   ],
   "outputs": [],
   "execution_count": 17
  },
  {
   "cell_type": "code",
   "id": "866cf5b3c30df256",
   "metadata": {
    "ExecuteTime": {
     "end_time": "2024-05-21T21:53:38.354109Z",
     "start_time": "2024-05-21T21:53:36.497096Z"
    }
   },
   "source": [
    "model3.compile(loss=\"mean_squared_error\",\n",
    "              optimizer=\"Adam\",\n",
    "              metrics=[RootMeanSquaredError()])\n",
    "history4 = model3.fit(X_train_scaled, y_train, epochs=100, batch_size=32, verbose=1,\n",
    "                      validation_data=(X_val_scaled, y_val),\n",
    "                      callbacks=[early_stopping, tensorboard_callback])\n"
   ],
   "outputs": [
    {
     "name": "stdout",
     "output_type": "stream",
     "text": [
      "Epoch 1/100\n",
      "\u001B[1m465/465\u001B[0m \u001B[32m━━━━━━━━━━━━━━━━━━━━\u001B[0m\u001B[37m\u001B[0m \u001B[1m1s\u001B[0m 700us/step - loss: 1.0690 - root_mean_squared_error: 1.0035 - val_loss: 0.3995 - val_root_mean_squared_error: 0.6321\n",
      "Epoch 2/100\n",
      "\u001B[1m465/465\u001B[0m \u001B[32m━━━━━━━━━━━━━━━━━━━━\u001B[0m\u001B[37m\u001B[0m \u001B[1m0s\u001B[0m 596us/step - loss: 0.4854 - root_mean_squared_error: 0.6860 - val_loss: 0.3761 - val_root_mean_squared_error: 0.6133\n",
      "Epoch 3/100\n",
      "\u001B[1m465/465\u001B[0m \u001B[32m━━━━━━━━━━━━━━━━━━━━\u001B[0m\u001B[37m\u001B[0m \u001B[1m0s\u001B[0m 609us/step - loss: 0.3477 - root_mean_squared_error: 0.5896 - val_loss: 0.3557 - val_root_mean_squared_error: 0.5964\n",
      "Epoch 4/100\n",
      "\u001B[1m465/465\u001B[0m \u001B[32m━━━━━━━━━━━━━━━━━━━━\u001B[0m\u001B[37m\u001B[0m \u001B[1m0s\u001B[0m 597us/step - loss: 0.3103 - root_mean_squared_error: 0.5568 - val_loss: 0.3570 - val_root_mean_squared_error: 0.5975\n",
      "Epoch 5/100\n",
      "\u001B[1m465/465\u001B[0m \u001B[32m━━━━━━━━━━━━━━━━━━━━\u001B[0m\u001B[37m\u001B[0m \u001B[1m0s\u001B[0m 587us/step - loss: 0.3096 - root_mean_squared_error: 0.5562 - val_loss: 0.3352 - val_root_mean_squared_error: 0.5790\n",
      "Epoch 5: early stopping\n"
     ]
    }
   ],
   "execution_count": 18
  },
  {
   "cell_type": "code",
   "id": "fdde843148d87c76",
   "metadata": {
    "ExecuteTime": {
     "end_time": "2024-05-21T21:53:38.357816Z",
     "start_time": "2024-05-21T21:53:38.354928Z"
    }
   },
   "source": [
    "tensorboard_callback = tf.keras.callbacks.TensorBoard(log_dir=\"housing_logs/model3\", histogram_freq=1)"
   ],
   "outputs": [],
   "execution_count": 19
  },
  {
   "cell_type": "code",
   "id": "f90fe4356c607040",
   "metadata": {
    "ExecuteTime": {
     "end_time": "2024-05-21T21:53:38.379971Z",
     "start_time": "2024-05-21T21:53:38.358909Z"
    }
   },
   "source": [
    "inputs = tf.keras.Input(shape=(X_train.shape[1],))\n",
    "x = tf.keras.layers.Flatten()(inputs)\n",
    "x = tf.keras.layers.Dense(70, activation=\"relu\")(x)\n",
    "x = tf.keras.layers.Dense(50, activation=\"relu\")(x)\n",
    "x = tf.keras.layers.Dense(50, activation=\"relu\")(x)\n",
    "x = tf.keras.layers.Dense(80, activation=\"relu\")(x)\n",
    "x = tf.keras.layers.Dense(50, activation=\"relu\")(x)\n",
    "outputs = tf.keras.layers.Dense(1)(x)\n",
    "\n",
    "model4 = tf.keras.Model(inputs=inputs, outputs=outputs)"
   ],
   "outputs": [],
   "execution_count": 20
  },
  {
   "cell_type": "code",
   "id": "5224fcac7211e5e",
   "metadata": {
    "ExecuteTime": {
     "end_time": "2024-05-21T21:53:40.677922Z",
     "start_time": "2024-05-21T21:53:38.380895Z"
    }
   },
   "source": [
    "model4.compile(loss=\"mean_squared_error\",\n",
    "              optimizer=\"Adam\",\n",
    "              metrics=[RootMeanSquaredError()])\n",
    "model4.fit(X_train_scaled, y_train, epochs=100, batch_size=32, verbose=1,\n",
    "                      validation_data=(X_val_scaled, y_val),\n",
    "           callbacks=[early_stopping, tensorboard_callback])"
   ],
   "outputs": [
    {
     "name": "stdout",
     "output_type": "stream",
     "text": [
      "Epoch 1/100\n",
      "\u001B[1m465/465\u001B[0m \u001B[32m━━━━━━━━━━━━━━━━━━━━\u001B[0m\u001B[37m\u001B[0m \u001B[1m1s\u001B[0m 808us/step - loss: 1.5789 - root_mean_squared_error: 1.2003 - val_loss: 0.4386 - val_root_mean_squared_error: 0.6622\n",
      "Epoch 2/100\n",
      "\u001B[1m465/465\u001B[0m \u001B[32m━━━━━━━━━━━━━━━━━━━━\u001B[0m\u001B[37m\u001B[0m \u001B[1m0s\u001B[0m 707us/step - loss: 0.3658 - root_mean_squared_error: 0.6047 - val_loss: 0.3742 - val_root_mean_squared_error: 0.6117\n",
      "Epoch 3/100\n",
      "\u001B[1m465/465\u001B[0m \u001B[32m━━━━━━━━━━━━━━━━━━━━\u001B[0m\u001B[37m\u001B[0m \u001B[1m0s\u001B[0m 770us/step - loss: 0.3548 - root_mean_squared_error: 0.5953 - val_loss: 0.3938 - val_root_mean_squared_error: 0.6276\n",
      "Epoch 4/100\n",
      "\u001B[1m465/465\u001B[0m \u001B[32m━━━━━━━━━━━━━━━━━━━━\u001B[0m\u001B[37m\u001B[0m \u001B[1m0s\u001B[0m 688us/step - loss: 0.3260 - root_mean_squared_error: 0.5709 - val_loss: 0.3571 - val_root_mean_squared_error: 0.5976\n",
      "Epoch 5/100\n",
      "\u001B[1m465/465\u001B[0m \u001B[32m━━━━━━━━━━━━━━━━━━━━\u001B[0m\u001B[37m\u001B[0m \u001B[1m0s\u001B[0m 723us/step - loss: 0.3082 - root_mean_squared_error: 0.5549 - val_loss: 0.3593 - val_root_mean_squared_error: 0.5994\n",
      "Epoch 5: early stopping\n"
     ]
    },
    {
     "data": {
      "text/plain": [
       "<keras.src.callbacks.history.History at 0x31fd11e20>"
      ]
     },
     "execution_count": 21,
     "metadata": {},
     "output_type": "execute_result"
    }
   ],
   "execution_count": 21
  },
  {
   "cell_type": "code",
   "id": "86629db6f356b24d",
   "metadata": {
    "ExecuteTime": {
     "end_time": "2024-05-21T21:53:40.682118Z",
     "start_time": "2024-05-21T21:53:40.679137Z"
    }
   },
   "source": [
    "tensorboard_callback = tf.keras.callbacks.TensorBoard(log_dir=\"housing_logs/model4\", histogram_freq=1)"
   ],
   "outputs": [],
   "execution_count": 22
  },
  {
   "cell_type": "code",
   "id": "e38f741f19c5e7cd",
   "metadata": {
    "ExecuteTime": {
     "end_time": "2024-05-21T21:53:40.702817Z",
     "start_time": "2024-05-21T21:53:40.683061Z"
    }
   },
   "source": [
    "model3.save(\"reg_housing_2.keras\")\n",
    "model4.save(\"reg_housing_3.keras\")"
   ],
   "outputs": [],
   "execution_count": 23
  }
 ],
 "metadata": {
  "kernelspec": {
   "display_name": "Python 3 (ipykernel)",
   "language": "python",
   "name": "python3"
  },
  "language_info": {
   "codemirror_mode": {
    "name": "ipython",
    "version": 3
   },
   "file_extension": ".py",
   "mimetype": "text/x-python",
   "name": "python",
   "nbconvert_exporter": "python",
   "pygments_lexer": "ipython3",
   "version": "3.9.6"
  }
 },
 "nbformat": 4,
 "nbformat_minor": 5
}
