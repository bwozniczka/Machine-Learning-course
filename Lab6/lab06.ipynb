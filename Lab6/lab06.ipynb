{
 "cells": [
  {
   "cell_type": "markdown",
   "id": "d9ac612a0bcdbb24",
   "metadata": {},
   "source": []
  },
  {
   "cell_type": "code",
   "id": "2c82e9d0f5e2e39d",
   "metadata": {
    "ExecuteTime": {
     "end_time": "2024-04-16T09:39:18.083681Z",
     "start_time": "2024-04-16T09:39:18.064748Z"
    }
   },
   "source": [
    "from sklearn import datasets\n",
    "\n",
    "data_breast_cancer = datasets.load_breast_cancer()"
   ],
   "outputs": [],
   "execution_count": 22
  },
  {
   "cell_type": "code",
   "id": "b451f3bdbdfbaa70",
   "metadata": {
    "ExecuteTime": {
     "end_time": "2024-04-16T09:39:18.101084Z",
     "start_time": "2024-04-16T09:39:18.090605Z"
    }
   },
   "source": [
    "from sklearn.model_selection import train_test_split\n",
    "\n",
    "X = data_breast_cancer.data[:, [1, 8]] \n",
    "y = data_breast_cancer.target\n",
    "\n",
    "X_train, X_test, y_train, y_test = train_test_split(X, y, test_size=0.2, random_state=42)\n",
    "\n"
   ],
   "outputs": [],
   "execution_count": 23
  },
  {
   "cell_type": "code",
   "id": "f29bdf1f89fcf1d7",
   "metadata": {
    "ExecuteTime": {
     "end_time": "2024-04-16T09:39:18.145363Z",
     "start_time": "2024-04-16T09:39:18.113785Z"
    }
   },
   "source": [
    "from sklearn.metrics import accuracy_score\n",
    "from sklearn.neighbors import KNeighborsClassifier\n",
    "from sklearn.ensemble import VotingClassifier, BaggingClassifier, RandomForestClassifier, AdaBoostClassifier, \\\n",
    "    GradientBoostingClassifier\n",
    "from sklearn.linear_model import LogisticRegression\n",
    "from sklearn.tree import DecisionTreeClassifier\n",
    "\n",
    "tree_clf = DecisionTreeClassifier()\n",
    "log_clf = LogisticRegression()\n",
    "knn_clf = KNeighborsClassifier()\n",
    "\n",
    "voting_clf_hard = VotingClassifier(estimators=[('tr', tree_clf),('lr', log_clf), ('knn', knn_clf)], voting='hard')\n",
    "\n",
    "voting_clf_hard.fit(X_train, y_train)\n",
    "y_pred = voting_clf_hard.predict(X_test)\n",
    "accuracy_hard = accuracy_score(y_test, y_pred)\n",
    "print(accuracy_hard)"
   ],
   "outputs": [
    {
     "name": "stdout",
     "output_type": "stream",
     "text": [
      "0.6929824561403509\n"
     ]
    }
   ],
   "execution_count": 24
  },
  {
   "cell_type": "code",
   "id": "c4708de9a653e58d",
   "metadata": {
    "ExecuteTime": {
     "end_time": "2024-04-16T09:39:18.159831Z",
     "start_time": "2024-04-16T09:39:18.148311Z"
    }
   },
   "source": [
    "voting_clf_soft = VotingClassifier(estimators=[('tr', tree_clf),('lr', log_clf), ('knn', knn_clf)], voting='soft')\n",
    "\n",
    "voting_clf_soft.fit(X_train, y_train)\n",
    "y_pred = voting_clf_soft.predict(X_test)\n",
    "accuracy_soft = accuracy_score(y_test, y_pred)\n",
    "print(accuracy_soft)"
   ],
   "outputs": [
    {
     "name": "stdout",
     "output_type": "stream",
     "text": [
      "0.6754385964912281\n"
     ]
    }
   ],
   "execution_count": 25
  },
  {
   "cell_type": "code",
   "id": "36cbf2bdb9de831f",
   "metadata": {
    "ExecuteTime": {
     "end_time": "2024-04-16T09:39:18.206921Z",
     "start_time": "2024-04-16T09:39:18.161571Z"
    }
   },
   "source": [
    "result = []\n",
    "for clf in [tree_clf, log_clf, knn_clf, voting_clf_hard, voting_clf_soft]:\n",
    "    clf.fit(X_train, y_train)\n",
    "    train_acc = clf.score(X_train, y_train)\n",
    "    test_acc = clf.score(X_test, y_test)\n",
    "    result.append((train_acc, test_acc))\n",
    "\n",
    "print(result)"
   ],
   "outputs": [
    {
     "name": "stdout",
     "output_type": "stream",
     "text": [
      "[(1.0, 0.6140350877192983), (0.7230769230769231, 0.7017543859649122), (0.7714285714285715, 0.6403508771929824), (0.8351648351648352, 0.6929824561403509), (0.9648351648351648, 0.6666666666666666)]\n"
     ]
    }
   ],
   "execution_count": 26
  },
  {
   "cell_type": "code",
   "id": "8f0fbdf155534a17",
   "metadata": {
    "ExecuteTime": {
     "end_time": "2024-04-16T09:39:18.215468Z",
     "start_time": "2024-04-16T09:39:18.210564Z"
    }
   },
   "source": [
    "import pickle\n",
    "\n",
    "with open(\"acc_vote.pkl\", \"wb\") as f:\n",
    "    pickle.dump(result, f)"
   ],
   "outputs": [],
   "execution_count": 27
  },
  {
   "cell_type": "code",
   "id": "ba43d44791efe4d3",
   "metadata": {
    "ExecuteTime": {
     "end_time": "2024-04-16T09:39:18.221541Z",
     "start_time": "2024-04-16T09:39:18.216319Z"
    }
   },
   "source": [
    "vote = [tree_clf,log_clf,knn_clf,voting_clf_hard,voting_clf_soft]\n",
    "\n",
    "with open(\"vote.pkl\", \"wb\") as f:\n",
    "    pickle.dump(vote, f)"
   ],
   "outputs": [],
   "execution_count": 28
  },
  {
   "cell_type": "code",
   "id": "39a8827235fb7d7a",
   "metadata": {
    "ExecuteTime": {
     "end_time": "2024-04-16T09:39:18.225736Z",
     "start_time": "2024-04-16T09:39:18.222646Z"
    }
   },
   "source": [
    "results2 = []"
   ],
   "outputs": [],
   "execution_count": 29
  },
  {
   "cell_type": "code",
   "id": "3b6c65e463b3f370",
   "metadata": {
    "ExecuteTime": {
     "end_time": "2024-04-16T09:39:18.273322Z",
     "start_time": "2024-04-16T09:39:18.226875Z"
    }
   },
   "source": [
    "data = datasets.load_breast_cancer()\n",
    "\n",
    "# X = data.data\n",
    "# y = data.target\n",
    "# \n",
    "# X_train, X_test, y_train, y_test = train_test_split(X, y, test_size=0.2, random_state=42)\n",
    "\n",
    "bag_clf = BaggingClassifier(DecisionTreeClassifier(), n_estimators=30, random_state=42)\n",
    "bag_clf.fit(X_train, y_train)\n",
    "train_acc = bag_clf.score(X_train, y_train)\n",
    "test_acc = bag_clf.score(X_test, y_test)\n",
    "results2.append((train_acc, test_acc))"
   ],
   "outputs": [],
   "execution_count": 30
  },
  {
   "cell_type": "code",
   "id": "9bf59354d274ac22",
   "metadata": {
    "ExecuteTime": {
     "end_time": "2024-04-16T09:39:18.310611Z",
     "start_time": "2024-04-16T09:39:18.274438Z"
    }
   },
   "source": [
    "bag_clf_50 = BaggingClassifier(DecisionTreeClassifier(), n_estimators=30, max_samples=0.5, random_state=42)\n",
    "bag_clf_50.fit(X_train, y_train)\n",
    "train_acc = bag_clf_50.score(X_train, y_train)\n",
    "test_acc = bag_clf_50.score(X_test, y_test)\n",
    "results2.append((train_acc, test_acc))"
   ],
   "outputs": [],
   "execution_count": 31
  },
  {
   "cell_type": "code",
   "id": "e06973591a6e8049",
   "metadata": {
    "ExecuteTime": {
     "end_time": "2024-04-16T09:39:18.356Z",
     "start_time": "2024-04-16T09:39:18.311595Z"
    }
   },
   "source": [
    "pas_clf = BaggingClassifier(DecisionTreeClassifier(), n_estimators=30, bootstrap= False, random_state=42)\n",
    "pas_clf.fit(X_train, y_train)\n",
    "train_acc = pas_clf.score(X_train, y_train)\n",
    "test_acc = pas_clf.score(X_test, y_test)\n",
    "results2.append((train_acc, test_acc))"
   ],
   "outputs": [],
   "execution_count": 32
  },
  {
   "cell_type": "code",
   "id": "dacdc0fc8c6dd6e2",
   "metadata": {
    "ExecuteTime": {
     "end_time": "2024-04-16T09:39:18.393973Z",
     "start_time": "2024-04-16T09:39:18.358507Z"
    }
   },
   "source": [
    "pas_clf_50 = BaggingClassifier(DecisionTreeClassifier(), n_estimators=30, bootstrap= False, max_samples=0.5, random_state=42)\n",
    "pas_clf_50.fit(X_train, y_train)\n",
    "train_acc = pas_clf_50.score(X_train, y_train)\n",
    "test_acc = pas_clf_50.score(X_test, y_test)\n",
    "results2.append((train_acc, test_acc))"
   ],
   "outputs": [],
   "execution_count": 33
  },
  {
   "cell_type": "code",
   "id": "9d42b5461d6cc9c8",
   "metadata": {
    "ExecuteTime": {
     "end_time": "2024-04-16T09:39:18.426305Z",
     "start_time": "2024-04-16T09:39:18.394621Z"
    }
   },
   "source": [
    "rnd_clf = RandomForestClassifier(n_estimators=30, random_state=42)\n",
    "rnd_clf.fit(X_train, y_train)\n",
    "train_acc = rnd_clf.score(X_train, y_train)\n",
    "test_acc = rnd_clf.score(X_test, y_test)\n",
    "results2.append((train_acc, test_acc))"
   ],
   "outputs": [],
   "execution_count": 34
  },
  {
   "cell_type": "code",
   "id": "adba5004e320c655",
   "metadata": {
    "ExecuteTime": {
     "end_time": "2024-04-16T09:39:18.461742Z",
     "start_time": "2024-04-16T09:39:18.427375Z"
    }
   },
   "source": [
    "ada_clf = AdaBoostClassifier(n_estimators=30, random_state=42)\n",
    "ada_clf.fit(X_train, y_train)\n",
    "train_acc = ada_clf.score(X_train, y_train)\n",
    "test_acc = ada_clf.score(X_test, y_test)\n",
    "results2.append((train_acc, test_acc))"
   ],
   "outputs": [
    {
     "name": "stderr",
     "output_type": "stream",
     "text": [
      "/Users/bartlomiejwozniczka/Desktop/MachineLearning/.venv/lib/python3.9/site-packages/sklearn/ensemble/_weight_boosting.py:519: FutureWarning: The SAMME.R algorithm (the default) is deprecated and will be removed in 1.6. Use the SAMME algorithm to circumvent this warning.\n",
      "  warnings.warn(\n"
     ]
    }
   ],
   "execution_count": 35
  },
  {
   "cell_type": "code",
   "id": "c57fa35bcc23264b",
   "metadata": {
    "ExecuteTime": {
     "end_time": "2024-04-16T09:39:18.484490Z",
     "start_time": "2024-04-16T09:39:18.462541Z"
    }
   },
   "source": [
    "gbrt = GradientBoostingClassifier(n_estimators=30, random_state=42)\n",
    "gbrt.fit(X_train, y_train)\n",
    "train_acc = gbrt.score(X_train, y_train)\n",
    "test_acc = gbrt.score(X_test, y_test)\n",
    "results2.append((train_acc, test_acc))"
   ],
   "outputs": [],
   "execution_count": 36
  },
  {
   "cell_type": "code",
   "id": "c3dad651fb3f2225",
   "metadata": {
    "ExecuteTime": {
     "end_time": "2024-04-16T09:39:18.487738Z",
     "start_time": "2024-04-16T09:39:18.485281Z"
    }
   },
   "source": [
    "with open(\"acc_bag.pkl\", \"wb\") as f:\n",
    "    pickle.dump(results2, f)"
   ],
   "outputs": [],
   "execution_count": 37
  },
  {
   "cell_type": "code",
   "id": "55b18b90814a1c85",
   "metadata": {
    "ExecuteTime": {
     "end_time": "2024-04-16T09:39:18.499219Z",
     "start_time": "2024-04-16T09:39:18.488558Z"
    }
   },
   "source": [
    "classifiers = [bag_clf, bag_clf_50, pas_clf, pas_clf_50, rnd_clf, ada_clf, gbrt]\n",
    "with open (\"bag.pkl\", \"wb\") as f:\n",
    "    pickle.dump(classifiers, f)"
   ],
   "outputs": [],
   "execution_count": 38
  },
  {
   "cell_type": "code",
   "id": "d5a1d821f2901608",
   "metadata": {
    "ExecuteTime": {
     "end_time": "2024-04-16T09:39:18.536267Z",
     "start_time": "2024-04-16T09:39:18.500223Z"
    }
   },
   "source": [
    "import numpy as np\n",
    "X = data_breast_cancer.data \n",
    "y = data_breast_cancer.target\n",
    "\n",
    "X_train, X_test, y_train, y_test = train_test_split(X, y, test_size=0.2, random_state=42)\n",
    "selected_features = np.random.choice(range(X_train.shape[1]), size=2, replace=False)\n",
    "X_train_selected = X_train[:, selected_features]\n",
    "X_test_selected = X_test[:, selected_features]\n",
    "\n",
    "bagging_clf = BaggingClassifier(n_estimators=30, max_samples=0.5, random_state=42)\n",
    "bagging_clf.fit(X_train_selected, y_train)\n",
    "train_acc = bagging_clf.score(X_train_selected, y_train)\n",
    "test_acc = bagging_clf.score(X_test_selected, y_test)\n",
    "\n",
    "results3 = []\n",
    "results3.append(train_acc)\n",
    "results3.append(test_acc)\n",
    "print(results3)"
   ],
   "outputs": [
    {
     "name": "stdout",
     "output_type": "stream",
     "text": [
      "[0.9472527472527472, 0.8421052631578947]\n"
     ]
    }
   ],
   "execution_count": 39
  },
  {
   "cell_type": "code",
   "id": "f761cce4551803f8",
   "metadata": {
    "ExecuteTime": {
     "end_time": "2024-04-16T09:39:18.539428Z",
     "start_time": "2024-04-16T09:39:18.537032Z"
    }
   },
   "source": [
    "with open(\"acc_fea.pkl\", \"wb\") as f:\n",
    "    pickle.dump(results3, f)"
   ],
   "outputs": [],
   "execution_count": 40
  },
  {
   "cell_type": "code",
   "id": "b70b6f06b203330a",
   "metadata": {
    "ExecuteTime": {
     "end_time": "2024-04-16T09:39:18.543828Z",
     "start_time": "2024-04-16T09:39:18.540060Z"
    }
   },
   "source": [
    "with open(\"fea.pkl\", \"wb\") as f:\n",
    "    pickle.dump([bagging_clf], f)"
   ],
   "outputs": [],
   "execution_count": 41
  },
  {
   "cell_type": "code",
   "id": "3361b29c696acc60",
   "metadata": {
    "ExecuteTime": {
     "end_time": "2024-04-16T09:39:18.565738Z",
     "start_time": "2024-04-16T09:39:18.544613Z"
    }
   },
   "source": [
    "import pandas as pd\n",
    "\n",
    "results = []\n",
    "selected_features = np.random.choice(range(X_train.shape[1]), size=2, replace=False)\n",
    "X_train_selected = X_train[:, selected_features]\n",
    "X_test_selected = X_test[:, selected_features]\n",
    "\n",
    "for i, estimator in enumerate(bagging_clf.estimators_):\n",
    "    train_accuracy = estimator.score(X_train_selected, y_train)\n",
    "    \n",
    "    test_accuracy = estimator.score(X_test_selected, y_test)\n",
    "    \n",
    "    selected_features = [data.feature_names[f] for f in bagging_clf.estimators_features_[i]]\n",
    "    \n",
    "    results.append((train_accuracy, test_accuracy, selected_features))\n",
    "\n",
    "df_results = pd.DataFrame(results, columns=['Dokładność dla zb. uczącego', 'Dokładność dla zb. testującego', 'Wybrane cechy'])\n",
    "\n",
    "df_results_sorted = df_results.sort_values(by=['Dokładność dla zb. testującego', 'Dokładność dla zb. uczącego'], ascending=False)\n",
    "\n",
    "with open('acc_fea_rank.pkl', 'wb') as f:\n",
    "    pickle.dump(df_results_sorted, f)\n"
   ],
   "outputs": [],
   "execution_count": 42
  }
 ],
 "metadata": {
  "kernelspec": {
   "display_name": "Python 3 (ipykernel)",
   "language": "python",
   "name": "python3"
  },
  "language_info": {
   "codemirror_mode": {
    "name": "ipython",
    "version": 3
   },
   "file_extension": ".py",
   "mimetype": "text/x-python",
   "name": "python",
   "nbconvert_exporter": "python",
   "pygments_lexer": "ipython3",
   "version": "3.9.6"
  }
 },
 "nbformat": 4,
 "nbformat_minor": 5
}
