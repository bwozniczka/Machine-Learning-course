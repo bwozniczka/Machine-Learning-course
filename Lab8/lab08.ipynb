{
 "cells": [
  {
   "cell_type": "code",
   "id": "initial_id",
   "metadata": {
    "collapsed": true,
    "jupyter": {
     "outputs_hidden": true
    },
    "ExecuteTime": {
     "end_time": "2024-05-09T15:59:05.299758Z",
     "start_time": "2024-05-09T15:59:01.543750Z"
    }
   },
   "source": [
    "from sklearn import datasets\n",
    "from sklearn.datasets import load_iris\n",
    "\n",
    "datasets_breast_cancer = datasets.load_breast_cancer()\n",
    "data_iris = load_iris()"
   ],
   "outputs": [],
   "execution_count": 1
  },
  {
   "cell_type": "code",
   "id": "153558f08157c5b7",
   "metadata": {
    "ExecuteTime": {
     "end_time": "2024-05-09T15:59:05.303121Z",
     "start_time": "2024-05-09T15:59:05.301103Z"
    }
   },
   "source": [
    "X_bc = datasets_breast_cancer.data\n",
    "y_bc = datasets_breast_cancer.target\n",
    "\n",
    "X_iris = data_iris.data\n",
    "y_iris = data_iris.target"
   ],
   "outputs": [],
   "execution_count": 2
  },
  {
   "cell_type": "code",
   "id": "97e11431689c1dce",
   "metadata": {
    "ExecuteTime": {
     "end_time": "2024-05-09T15:59:05.877351Z",
     "start_time": "2024-05-09T15:59:05.303892Z"
    }
   },
   "source": [
    "from sklearn.decomposition import PCA\n",
    "\n",
    "pca = PCA(n_components=0.9)\n",
    "X_bc_pca = pca.fit_transform(X_bc)\n",
    "\n",
    "pca_ratio = pca.explained_variance_ratio_\n",
    "print(pca_ratio)\n",
    "pca_iris = PCA(n_components=0.9)\n",
    "X_iris_pca = pca_iris.fit_transform(X_iris)\n",
    "pca_iris_ratio = pca_iris.explained_variance_ratio_\n",
    "print(pca_iris_ratio)"
   ],
   "outputs": [
    {
     "name": "stdout",
     "output_type": "stream",
     "text": [
      "[0.98204467]\n",
      "[0.92461872]\n"
     ]
    }
   ],
   "execution_count": 3
  },
  {
   "cell_type": "code",
   "id": "1af8b1986e3c12b2",
   "metadata": {
    "ExecuteTime": {
     "end_time": "2024-05-09T15:59:06.025144Z",
     "start_time": "2024-05-09T15:59:05.951425Z"
    }
   },
   "source": [
    "from sklearn.preprocessing import StandardScaler\n",
    "\n",
    "scaler_bc = StandardScaler()\n",
    "X_bc_scaled = scaler_bc.fit_transform(X_bc)\n",
    "\n",
    "pca_bc_scaled = PCA(n_components=0.9)\n",
    "X_bc_scaled_pca = pca_bc_scaled.fit_transform(X_bc_scaled)\n",
    "\n",
    "pca_bc_ratio_scaled = pca_bc_scaled.explained_variance_ratio_\n",
    "print(pca_bc_ratio_scaled)\n",
    "scaler_iris = StandardScaler()\n",
    "X_iris_scaled = scaler_iris.fit_transform(X_iris)\n",
    "\n",
    "pca_iris_scaled = PCA(n_components=0.9)\n",
    "X_iris_pca_scaled = pca_iris_scaled.fit_transform(X_iris_scaled)\n",
    "\n",
    "pca_iris_scaled_ratio = pca_iris_scaled.explained_variance_ratio_\n",
    "print(pca_iris_scaled_ratio)"
   ],
   "outputs": [
    {
     "name": "stdout",
     "output_type": "stream",
     "text": [
      "[0.44272026 0.18971182 0.09393163 0.06602135 0.05495768 0.04024522\n",
      " 0.02250734]\n",
      "[0.72962445 0.22850762]\n"
     ]
    }
   ],
   "execution_count": 4
  },
  {
   "cell_type": "code",
   "id": "64268245e9db1eba",
   "metadata": {
    "ExecuteTime": {
     "end_time": "2024-05-09T15:59:06.037946Z",
     "start_time": "2024-05-09T15:59:06.031959Z"
    }
   },
   "source": [
    "import pickle\n",
    "\n",
    "with open(\"pca_bc.pkl\", \"wb\") as f:\n",
    "    pickle.dump(pca_bc_ratio_scaled, f)\n",
    "\n",
    "with open(\"pca_ir.pkl\", \"wb\") as f:\n",
    "    pickle.dump(pca_iris_scaled_ratio, f)"
   ],
   "outputs": [],
   "execution_count": 5
  },
  {
   "cell_type": "code",
   "id": "14ea042f3a27e3ed",
   "metadata": {
    "ExecuteTime": {
     "end_time": "2024-05-09T15:59:06.049110Z",
     "start_time": "2024-05-09T15:59:06.040021Z"
    }
   },
   "source": [
    "import numpy as np\n",
    "\n",
    "feature_indices_bc_scaled = np.argmax(np.abs(pca_bc_scaled.components_), axis=1)\n",
    "feature_indices_iris_scaled = np.argmax(np.abs(pca_iris_scaled.components_), axis=1)\n",
    "\n",
    "print(feature_indices_bc_scaled)\n",
    "print(feature_indices_iris_scaled)"
   ],
   "outputs": [
    {
     "name": "stdout",
     "output_type": "stream",
     "text": [
      "[ 7  9 11 21  4 28 29]\n",
      "[2 1]\n"
     ]
    }
   ],
   "execution_count": 6
  },
  {
   "cell_type": "code",
   "id": "9bfbb40168a8f35a",
   "metadata": {
    "ExecuteTime": {
     "end_time": "2024-05-09T15:59:06.061177Z",
     "start_time": "2024-05-09T15:59:06.052059Z"
    }
   },
   "source": [
    "with open(\"idx_bc.pkl\", \"wb\") as f:\n",
    "    pickle.dump(feature_indices_bc_scaled, f)\n",
    "    \n",
    "with open(\"idx_ir.pkl\", \"wb\") as f:\n",
    "    pickle.dump(feature_indices_iris_scaled, f)"
   ],
   "outputs": [],
   "execution_count": 7
  },
  {
   "cell_type": "code",
   "id": "8c9c53c047ef37d",
   "metadata": {
    "ExecuteTime": {
     "end_time": "2024-05-09T15:59:06.068470Z",
     "start_time": "2024-05-09T15:59:06.064784Z"
    }
   },
   "source": [],
   "outputs": [],
   "execution_count": 7
  }
 ],
 "metadata": {
  "kernelspec": {
   "display_name": "Python 3 (ipykernel)",
   "language": "python",
   "name": "python3"
  },
  "language_info": {
   "codemirror_mode": {
    "name": "ipython",
    "version": 3
   },
   "file_extension": ".py",
   "mimetype": "text/x-python",
   "name": "python",
   "nbconvert_exporter": "python",
   "pygments_lexer": "ipython3",
   "version": "3.9.6"
  }
 },
 "nbformat": 4,
 "nbformat_minor": 5
}
