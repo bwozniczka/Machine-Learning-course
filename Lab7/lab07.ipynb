{
 "cells": [
  {
   "cell_type": "code",
   "execution_count": 10,
   "id": "initial_id",
   "metadata": {
    "ExecuteTime": {
     "end_time": "2024-04-23T10:00:29.237267Z",
     "start_time": "2024-04-23T10:00:26.133891Z"
    },
    "collapsed": true,
    "jupyter": {
     "outputs_hidden": true
    }
   },
   "outputs": [],
   "source": [
    "from sklearn.cluster import KMeans, DBSCAN\n",
    "from sklearn.datasets import fetch_openml\n",
    "import numpy as np\n",
    "import pickle\n",
    "\n",
    "mnist = fetch_openml('mnist_784', version=1, as_frame=False, parser='auto') \n",
    "mnist.target = mnist.target.astype(np.uint8)\n",
    "X = mnist[\"data\"]\n",
    "y = mnist[\"target\"]"
   ]
  },
  {
   "cell_type": "code",
   "execution_count": 11,
   "id": "21ede3d00d66b90",
   "metadata": {
    "ExecuteTime": {
     "end_time": "2024-04-23T10:10:49.754974Z",
     "start_time": "2024-04-23T10:00:29.239465Z"
    }
   },
   "outputs": [
    {
     "name": "stdout",
     "output_type": "stream",
     "text": [
      "Clusters: 8, Best Inertia: 184475663288.58374\n",
      "Clusters: 9, Best Inertia: 181170513468.66922\n",
      "Clusters: 10, Best Inertia: 178432239695.42792\n",
      "Clusters: 11, Best Inertia: 175770300286.51297\n",
      "Clusters: 12, Best Inertia: 173323112045.8375\n",
      "[0.07337977998298922, 0.05681625379289227, 0.0586915389505002, 0.05835878745275728, 0.05817356340885259]\n"
     ]
    }
   ],
   "source": [
    "from sklearn.metrics import silhouette_score\n",
    "\n",
    "silhouette_scores = []\n",
    "\n",
    "for n_clusters in [8, 9, 10, 11, 12]:\n",
    "    best_inertia = np.inf\n",
    "    \n",
    "    kmeans = KMeans(n_clusters=n_clusters, n_init=10, random_state=42)\n",
    "    kmeans.fit(X)\n",
    "    \n",
    "    silhouette_avg = silhouette_score(X, kmeans.labels_)\n",
    "    silhouette_scores.append(silhouette_avg)\n",
    "    \n",
    "    \n",
    "    print(f\"Clusters: {n_clusters}, Best Inertia: {kmeans.inertia_}\")\n",
    "    \n",
    "print(silhouette_scores)"
   ]
  },
  {
   "cell_type": "code",
   "execution_count": 12,
   "id": "42b7809038623adc",
   "metadata": {
    "ExecuteTime": {
     "end_time": "2024-04-23T10:10:49.766791Z",
     "start_time": "2024-04-23T10:10:49.758726Z"
    }
   },
   "outputs": [],
   "source": [
    "with open ('kmeans_sil.pkl', 'wb') as f:\n",
    "    pickle.dump(silhouette_scores, f)"
   ]
  },
  {
   "cell_type": "code",
   "execution_count": 13,
   "id": "52af86baf68316bc",
   "metadata": {
    "ExecuteTime": {
     "end_time": "2024-04-23T10:11:16.225207Z",
     "start_time": "2024-04-23T10:10:49.768464Z"
    }
   },
   "outputs": [
    {
     "name": "stdout",
     "output_type": "stream",
     "text": [
      "[0, 1, 2, 3, 5, 6, 8, 9]\n"
     ]
    }
   ],
   "source": [
    "from sklearn.metrics import confusion_matrix\n",
    "\n",
    "kmeans = KMeans(n_clusters=10, n_init=10, random_state=42)\n",
    "kmeans.fit(X)\n",
    "y_pred = kmeans.predict(X)\n",
    "\n",
    "cnf_m = confusion_matrix(y, y_pred)\n",
    "argmax = []\n",
    "for row in cnf_m:\n",
    "    armgax_index = np.argmax(row)\n",
    "    argmax.append(armgax_index)\n",
    "    \n",
    "unique_sorted = sorted(set(argmax))\n",
    "\n",
    "print(unique_sorted)"
   ]
  },
  {
   "cell_type": "code",
   "execution_count": 14,
   "id": "c9dba6a2f679057a",
   "metadata": {
    "ExecuteTime": {
     "end_time": "2024-04-23T10:11:16.230355Z",
     "start_time": "2024-04-23T10:11:16.226908Z"
    }
   },
   "outputs": [],
   "source": [
    "with open('kmeans_argmax.pkl', 'wb') as f:\n",
    "    pickle.dump(unique_sorted, f)"
   ]
  },
  {
   "cell_type": "code",
   "execution_count": 15,
   "id": "5419908355a8d79e",
   "metadata": {
    "ExecuteTime": {
     "end_time": "2024-04-23T10:12:48.641763Z",
     "start_time": "2024-04-23T10:11:16.231654Z"
    }
   },
   "outputs": [],
   "source": [
    "distances = []\n",
    "for i in range(300):\n",
    "    for j in range(len(X)):\n",
    "        distance = np.linalg.norm(X[i] - X[j])\n",
    "        if distance != 0:\n",
    "            distances.append(distance)\n",
    "\n",
    "sorted_distances = sorted(distances)[:10]\n"
   ]
  },
  {
   "cell_type": "code",
   "execution_count": 19,
   "id": "10223cb6ab198701",
   "metadata": {
    "ExecuteTime": {
     "end_time": "2024-04-23T10:29:22.375461Z",
     "start_time": "2024-04-23T10:29:22.362557Z"
    }
   },
   "outputs": [
    {
     "name": "stdout",
     "output_type": "stream",
     "text": [
      "[279.26152617215286, 304.37641170103836, 317.5893575043093, 328.7658741414626, 333.4546445920344, 352.89800226127664, 355.1774204534967, 358.07401469528617, 359.64287842247063, 360.42474942767177]\n"
     ]
    }
   ],
   "source": [
    "print(sorted_distances)"
   ]
  },
  {
   "cell_type": "code",
   "execution_count": 16,
   "id": "a863fc5d28ec34b8",
   "metadata": {
    "ExecuteTime": {
     "end_time": "2024-04-23T10:12:48.651693Z",
     "start_time": "2024-04-23T10:12:48.645358Z"
    }
   },
   "outputs": [],
   "source": [
    "with open ('dist.pkl', 'wb') as f:\n",
    "    pickle.dump(sorted_distances, f)"
   ]
  },
  {
   "cell_type": "code",
   "execution_count": 17,
   "id": "bd8bbb56b0f40a34",
   "metadata": {
    "ExecuteTime": {
     "end_time": "2024-04-23T10:17:36.577990Z",
     "start_time": "2024-04-23T10:12:48.653641Z"
    }
   },
   "outputs": [
    {
     "name": "stdout",
     "output_type": "stream",
     "text": [
      "[4, 7, 22]\n"
     ]
    }
   ],
   "source": [
    "s = np.mean(sorted_distances[:3])\n",
    "\n",
    "eps_val = np.arange(s, s + 0.1 * s, 0.04 * s)\n",
    "\n",
    "unique_count = []\n",
    "\n",
    "for eps in eps_val:\n",
    "    dbscan = DBSCAN(eps=eps)\n",
    "    dbscan.fit(X)\n",
    "    unique_labels = len(np.unique(dbscan.labels_))\n",
    "    unique_count.append(unique_labels)\n",
    "    \n",
    "print(unique_count)"
   ]
  },
  {
   "cell_type": "code",
   "execution_count": 18,
   "id": "81b94fd4ed020975",
   "metadata": {
    "ExecuteTime": {
     "end_time": "2024-04-23T10:17:36.595990Z",
     "start_time": "2024-04-23T10:17:36.588644Z"
    }
   },
   "outputs": [],
   "source": [
    "with open('dbscan_len.pkl', 'wb') as f:\n",
    "    pickle.dump(unique_count, f)"
   ]
  }
 ],
 "metadata": {
  "kernelspec": {
   "display_name": "Python 3 (ipykernel)",
   "language": "python",
   "name": "python3"
  },
  "language_info": {
   "codemirror_mode": {
    "name": "ipython",
    "version": 3
   },
   "file_extension": ".py",
   "mimetype": "text/x-python",
   "name": "python",
   "nbconvert_exporter": "python",
   "pygments_lexer": "ipython3",
   "version": "3.9.6"
  }
 },
 "nbformat": 4,
 "nbformat_minor": 5
}
