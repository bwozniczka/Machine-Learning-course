{
 "cells": [
  {
   "cell_type": "code",
   "id": "initial_id",
   "metadata": {
    "ExecuteTime": {
     "end_time": "2024-03-24T13:23:24.713270Z",
     "start_time": "2024-03-24T13:23:23.327030Z"
    }
   },
   "source": [
    "import pandas as pd\n",
    "import numpy as np\n",
    "size = 300\n",
    "X = np.random.rand(size)*5-2.5\n",
    "w4, w3, w2, w1, w0 = 1, 2, 1, -4, 2\n",
    "y = w4*(X**4) + w3*(X**3) + w2*(X**2) + w1*X + w0 + np.random.randn(size)*8-4 \n",
    "df = pd.DataFrame({'x': X, 'y': y})\n",
    "df.to_csv('dane_do_regresji.csv',index=None)\n",
    "df.plot.scatter(x='x',y='y')"
   ],
   "outputs": [
    {
     "data": {
      "text/plain": [
       "<Axes: xlabel='x', ylabel='y'>"
      ]
     },
     "execution_count": 1,
     "metadata": {},
     "output_type": "execute_result"
    },
    {
     "data": {
      "text/plain": [
       "<Figure size 640x480 with 1 Axes>"
      ],
      "image/png": "[encoded data removed]"
     },
     "metadata": {},
     "output_type": "display_data"
    }
   ],
   "execution_count": 1
  },
  {
   "cell_type": "code",
   "id": "c1e61d989285c7c7",
   "metadata": {
    "collapsed": false,
    "ExecuteTime": {
     "end_time": "2024-03-24T13:23:26.279589Z",
     "start_time": "2024-03-24T13:23:24.717250Z"
    }
   },
   "source": [
    "from sklearn.model_selection import train_test_split\n",
    "\n",
    "\n",
    "X_train, X_test, y_train, y_test = train_test_split(df[['x']], df['y'], test_size=0.2, random_state=42)\n",
    "\n",
    "print(len(X_train))\n",
    "print(len(X_test))\n"
   ],
   "outputs": [
    {
     "name": "stdout",
     "output_type": "stream",
     "text": [
      "240\n",
      "60\n"
     ]
    }
   ],
   "execution_count": 2
  },
  {
   "cell_type": "code",
   "id": "fa0005d9a1d4ec6c",
   "metadata": {
    "collapsed": false,
    "ExecuteTime": {
     "end_time": "2024-03-24T13:23:26.585561Z",
     "start_time": "2024-03-24T13:23:26.281767Z"
    }
   },
   "source": [
    "from sklearn.metrics import mean_squared_error\n",
    "from sklearn.linear_model import LinearRegression\n",
    "\n",
    "lin_reg = LinearRegression()\n",
    "lin_reg.fit(X_train, y_train)\n",
    "\n",
    "y_train_pred = lin_reg.predict(X_train)\n",
    "y_test_pred = lin_reg.predict(X_test)\n",
    "\n",
    "mse_lg_train = mean_squared_error(y_train, y_train_pred)\n",
    "mse_lg_test = mean_squared_error(y_test, y_test_pred)\n",
    "\n",
    "print(mse_lg_train, mse_lg_test)"
   ],
   "outputs": [
    {
     "name": "stdout",
     "output_type": "stream",
     "text": [
      "198.4334716257228 259.20060215089063\n"
     ]
    }
   ],
   "execution_count": 3
  },
  {
   "cell_type": "code",
   "id": "cc2e261e94ebee6c",
   "metadata": {
    "collapsed": false,
    "ExecuteTime": {
     "end_time": "2024-03-24T13:23:26.673298Z",
     "start_time": "2024-03-24T13:23:26.589155Z"
    }
   },
   "source": [
    "from sklearn.neighbors import KNeighborsRegressor\n",
    "knn_3_reg = KNeighborsRegressor(n_neighbors=3)\n",
    "knn_3_reg.fit(X_train, y_train)\n",
    "\n",
    "y_train_pred = knn_3_reg.predict(X_train)\n",
    "y_test_pred = knn_3_reg.predict(X_test)\n",
    "\n",
    "knn_3_reg_train = mean_squared_error(y_train, y_train_pred)\n",
    "knn_3_reg_test = mean_squared_error(y_test, y_test_pred)\n",
    "\n",
    "print(knn_3_reg_train, knn_3_reg_test)\n"
   ],
   "outputs": [
    {
     "name": "stdout",
     "output_type": "stream",
     "text": [
      "35.149539770264475 91.1149245001611\n"
     ]
    }
   ],
   "execution_count": 4
  },
  {
   "cell_type": "code",
   "id": "26baa175e8da1574",
   "metadata": {
    "collapsed": false,
    "ExecuteTime": {
     "end_time": "2024-03-24T13:23:26.690954Z",
     "start_time": "2024-03-24T13:23:26.676073Z"
    }
   },
   "source": [
    "knn_5_reg = KNeighborsRegressor(n_neighbors=5)\n",
    "knn_5_reg.fit(X_train, y_train)\n",
    "\n",
    "\n",
    "y_train_pred = knn_5_reg.predict(X_train)\n",
    "y_test_pred = knn_5_reg.predict(X_test)\n",
    "\n",
    "knn_5_reg_train = mean_squared_error(y_train, y_train_pred)\n",
    "knn_5_reg_test = mean_squared_error(y_test, y_test_pred)\n",
    "\n",
    "print(knn_5_reg_train, knn_5_reg_test)"
   ],
   "outputs": [
    {
     "name": "stdout",
     "output_type": "stream",
     "text": [
      "42.03714674103853 88.91477571310598\n"
     ]
    }
   ],
   "execution_count": 5
  },
  {
   "cell_type": "code",
   "id": "6b878e8fa79549c1",
   "metadata": {
    "collapsed": false,
    "ExecuteTime": {
     "end_time": "2024-03-24T13:23:26.700634Z",
     "start_time": "2024-03-24T13:23:26.693572Z"
    }
   },
   "source": [
    "print(knn_3_reg, knn_5_reg)"
   ],
   "outputs": [
    {
     "name": "stdout",
     "output_type": "stream",
     "text": [
      "KNeighborsRegressor(n_neighbors=3) KNeighborsRegressor()\n"
     ]
    }
   ],
   "execution_count": 6
  },
  {
   "cell_type": "code",
   "id": "2d9f63b411b72aa5",
   "metadata": {
    "collapsed": false,
    "ExecuteTime": {
     "end_time": "2024-03-24T13:23:26.712984Z",
     "start_time": "2024-03-24T13:23:26.703086Z"
    }
   },
   "source": [
    "from sklearn.preprocessing import PolynomialFeatures\n",
    "\n",
    "poly_2_features = PolynomialFeatures(degree=2, include_bias=False)\n",
    "X_train_poly = poly_2_features.fit_transform(X_train)\n",
    "X_test_poly = poly_2_features.fit_transform(X_test)\n",
    "\n",
    "poly2_lin_reg = LinearRegression()\n",
    "poly2_lin_reg.fit(X_train_poly, y_train)\n",
    "\n",
    "y_train_pred = poly2_lin_reg.predict(X_train_poly)\n",
    "y_test_pred = poly2_lin_reg.predict(X_test_poly)\n",
    "\n",
    "poly_2_features_train = mean_squared_error(y_train, y_train_pred)\n",
    "poly_2_features_test = mean_squared_error(y_test, y_test_pred)\n",
    "\n",
    "print(poly_2_features_train, poly_2_features_test)"
   ],
   "outputs": [
    {
     "name": "stdout",
     "output_type": "stream",
     "text": [
      "81.2205377259435 114.89878856634768\n"
     ]
    }
   ],
   "execution_count": 7
  },
  {
   "cell_type": "code",
   "id": "fbbf793c4d6dddd9",
   "metadata": {
    "collapsed": false,
    "ExecuteTime": {
     "end_time": "2024-03-24T13:23:26.744446Z",
     "start_time": "2024-03-24T13:23:26.715095Z"
    }
   },
   "source": [
    "poly_3_features = PolynomialFeatures(degree=3, include_bias=False)\n",
    "X_train_poly = poly_3_features.fit_transform(X_train)\n",
    "X_test_poly = poly_3_features.fit_transform(X_test)\n",
    "\n",
    "poly3_lin_reg = LinearRegression()\n",
    "poly3_lin_reg.fit(X_train_poly, y_train)\n",
    "\n",
    "y_train_pred = poly3_lin_reg.predict(X_train_poly)\n",
    "y_test_pred = poly3_lin_reg.predict(X_test_poly)\n",
    "\n",
    "poly_3_features_train = mean_squared_error(y_train, y_train_pred)\n",
    "poly_3_features_test = mean_squared_error(y_test, y_test_pred)\n",
    "\n",
    "print(poly_3_features_train, poly_3_features_test)"
   ],
   "outputs": [
    {
     "name": "stdout",
     "output_type": "stream",
     "text": [
      "61.18930333112707 88.52548447709032\n"
     ]
    }
   ],
   "execution_count": 8
  },
  {
   "cell_type": "code",
   "id": "40c0eafbd2b2ece2",
   "metadata": {
    "collapsed": false,
    "ExecuteTime": {
     "end_time": "2024-03-24T13:23:26.777332Z",
     "start_time": "2024-03-24T13:23:26.759936Z"
    }
   },
   "source": [
    "poly_4_features = PolynomialFeatures(degree=4, include_bias=False)\n",
    "X_train_poly = poly_4_features.fit_transform(X_train)\n",
    "X_test_poly = poly_4_features.fit_transform(X_test)\n",
    "\n",
    "poly4_lin_reg = LinearRegression()\n",
    "poly4_lin_reg.fit(X_train_poly, y_train)\n",
    "\n",
    "y_train_pred = poly4_lin_reg.predict(X_train_poly)\n",
    "y_test_pred = poly4_lin_reg.predict(X_test_poly)\n",
    "\n",
    "poly_4_features_train = mean_squared_error(y_train, y_train_pred)\n",
    "poly_4_features_test = mean_squared_error(y_test, y_test_pred)\n",
    "\n",
    "print(poly_4_features_train, poly_4_features_test)"
   ],
   "outputs": [
    {
     "name": "stdout",
     "output_type": "stream",
     "text": [
      "53.04072902847133 75.52380419926506\n"
     ]
    }
   ],
   "execution_count": 9
  },
  {
   "cell_type": "code",
   "id": "f13bc9cdba595a84",
   "metadata": {
    "collapsed": false,
    "ExecuteTime": {
     "end_time": "2024-03-24T13:23:26.796198Z",
     "start_time": "2024-03-24T13:23:26.785561Z"
    }
   },
   "source": [
    "poly_5_features = PolynomialFeatures(degree=5, include_bias=False)\n",
    "X_train_poly = poly_5_features.fit_transform(X_train)\n",
    "X_test_poly = poly_5_features.fit_transform(X_test)\n",
    "\n",
    "poly5_lin_reg = LinearRegression()\n",
    "poly5_lin_reg.fit(X_train_poly, y_train)\n",
    "\n",
    "y_train_pred = poly5_lin_reg.predict(X_train_poly)\n",
    "y_test_pred = poly5_lin_reg.predict(X_test_poly)\n",
    "\n",
    "poly_5_features_train = mean_squared_error(y_train, y_train_pred)\n",
    "poly_5_features_test = mean_squared_error(y_test, y_test_pred)\n",
    "\n",
    "print(poly_5_features_train, poly_5_features_test)"
   ],
   "outputs": [
    {
     "name": "stdout",
     "output_type": "stream",
     "text": [
      "53.00639852325722 75.96174344888746\n"
     ]
    }
   ],
   "execution_count": 10
  },
  {
   "cell_type": "code",
   "id": "60c06a02ac1717aa",
   "metadata": {
    "collapsed": false,
    "ExecuteTime": {
     "end_time": "2024-03-24T13:23:26.806813Z",
     "start_time": "2024-03-24T13:23:26.797942Z"
    }
   },
   "source": [
    "data = {\n",
    "    \"train_mse\": [mse_lg_train, knn_3_reg_train, knn_5_reg_train, poly_2_features_train, poly_3_features_train, poly_4_features_train, poly_5_features_train],\n",
    "    \"test_mse\": [mse_lg_test, knn_3_reg_test, knn_5_reg_test, poly_2_features_test, poly_3_features_test, poly_4_features_test, poly_5_features_test]\n",
    "}\n",
    "\n",
    "df = pd.DataFrame(data, index = [\"lin_reg\", \"knn_3_reg\", \"knn_5_reg\", \"poly_2_reg\", \"poly_3_reg\", \"poly_4_reg\", \"poly_5_reg\" ])\n",
    "df"
   ],
   "outputs": [
    {
     "data": {
      "text/plain": [
       "             train_mse    test_mse\n",
       "lin_reg     198.433472  259.200602\n",
       "knn_3_reg    35.149540   91.114925\n",
       "knn_5_reg    42.037147   88.914776\n",
       "poly_2_reg   81.220538  114.898789\n",
       "poly_3_reg   61.189303   88.525484\n",
       "poly_4_reg   53.040729   75.523804\n",
       "poly_5_reg   53.006399   75.961743"
      ],
      "text/html": [
       "<div>\n",
       "<style scoped>\n",
       "    .dataframe tbody tr th:only-of-type {\n",
       "        vertical-align: middle;\n",
       "    }\n",
       "\n",
       "    .dataframe tbody tr th {\n",
       "        vertical-align: top;\n",
       "    }\n",
       "\n",
       "    .dataframe thead th {\n",
       "        text-align: right;\n",
       "    }\n",
       "</style>\n",
       "<table border=\"1\" class=\"dataframe\">\n",
       "  <thead>\n",
       "    <tr style=\"text-align: right;\">\n",
       "      <th></th>\n",
       "      <th>train_mse</th>\n",
       "      <th>test_mse</th>\n",
       "    </tr>\n",
       "  </thead>\n",
       "  <tbody>\n",
       "    <tr>\n",
       "      <th>lin_reg</th>\n",
       "      <td>198.433472</td>\n",
       "      <td>259.200602</td>\n",
       "    </tr>\n",
       "    <tr>\n",
       "      <th>knn_3_reg</th>\n",
       "      <td>35.149540</td>\n",
       "      <td>91.114925</td>\n",
       "    </tr>\n",
       "    <tr>\n",
       "      <th>knn_5_reg</th>\n",
       "      <td>42.037147</td>\n",
       "      <td>88.914776</td>\n",
       "    </tr>\n",
       "    <tr>\n",
       "      <th>poly_2_reg</th>\n",
       "      <td>81.220538</td>\n",
       "      <td>114.898789</td>\n",
       "    </tr>\n",
       "    <tr>\n",
       "      <th>poly_3_reg</th>\n",
       "      <td>61.189303</td>\n",
       "      <td>88.525484</td>\n",
       "    </tr>\n",
       "    <tr>\n",
       "      <th>poly_4_reg</th>\n",
       "      <td>53.040729</td>\n",
       "      <td>75.523804</td>\n",
       "    </tr>\n",
       "    <tr>\n",
       "      <th>poly_5_reg</th>\n",
       "      <td>53.006399</td>\n",
       "      <td>75.961743</td>\n",
       "    </tr>\n",
       "  </tbody>\n",
       "</table>\n",
       "</div>"
      ]
     },
     "execution_count": 11,
     "metadata": {},
     "output_type": "execute_result"
    }
   ],
   "execution_count": 11
  },
  {
   "cell_type": "code",
   "id": "40ba8d74fe0b5ba",
   "metadata": {
    "collapsed": false,
    "ExecuteTime": {
     "end_time": "2024-03-24T13:23:26.813932Z",
     "start_time": "2024-03-24T13:23:26.809042Z"
    }
   },
   "source": [
    "df.to_pickle('mse.pkl')"
   ],
   "outputs": [],
   "execution_count": 12
  },
  {
   "cell_type": "code",
   "id": "6bbcec726b9f4bd2",
   "metadata": {
    "collapsed": false,
    "ExecuteTime": {
     "end_time": "2024-03-24T13:23:26.820906Z",
     "start_time": "2024-03-24T13:23:26.815798Z"
    }
   },
   "source": [
    "import pickle\n",
    "\n",
    "reg = [\n",
    "    (lin_reg, None),\n",
    "    (knn_3_reg, None),\n",
    "    (knn_5_reg, None),\n",
    "    (poly2_lin_reg, poly_2_features),\n",
    "    (poly3_lin_reg, poly_3_features),\n",
    "    (poly4_lin_reg, poly_4_features),\n",
    "    (poly5_lin_reg, poly_5_features),\n",
    "]\n",
    "print(reg)\n",
    "with open('reg.pkl', 'wb') as f:\n",
    "    pickle.dump(reg, f)\n",
    "    \n"
   ],
   "outputs": [
    {
     "name": "stdout",
     "output_type": "stream",
     "text": [
      "[(LinearRegression(), None), (KNeighborsRegressor(n_neighbors=3), None), (KNeighborsRegressor(), None), (LinearRegression(), PolynomialFeatures(include_bias=False)), (LinearRegression(), PolynomialFeatures(degree=3, include_bias=False)), (LinearRegression(), PolynomialFeatures(degree=4, include_bias=False)), (LinearRegression(), PolynomialFeatures(degree=5, include_bias=False))]\n"
     ]
    }
   ],
   "execution_count": 13
  },
  {
   "cell_type": "code",
   "source": [],
   "metadata": {
    "collapsed": false,
    "ExecuteTime": {
     "end_time": "2024-03-24T13:23:26.824214Z",
     "start_time": "2024-03-24T13:23:26.822687Z"
    }
   },
   "id": "6bd4a6e008b8b177",
   "outputs": [],
   "execution_count": 13
  }
 ],
 "metadata": {
  "kernelspec": {
   "display_name": "Python 3 (ipykernel)",
   "language": "python",
   "name": "python3"
  },
  "language_info": {
   "codemirror_mode": {
    "name": "ipython",
    "version": 3
   },
   "file_extension": ".py",
   "mimetype": "text/x-python",
   "name": "python",
   "nbconvert_exporter": "python",
   "pygments_lexer": "ipython3",
   "version": "3.9.6"
  }
 },
 "nbformat": 4,
 "nbformat_minor": 5
}
