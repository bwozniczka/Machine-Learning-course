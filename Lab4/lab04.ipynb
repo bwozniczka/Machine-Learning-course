{
 "cells": [
  {
   "cell_type": "code",
   "execution_count": 1,
   "id": "initial_id",
   "metadata": {
    "ExecuteTime": {
     "end_time": "2024-04-01T15:29:03.650142Z",
     "start_time": "2024-04-01T15:29:03.643276Z"
    }
   },
   "outputs": [],
   "source": [
    "from sklearn import datasets\n",
    "\n",
    "data_breast_cancer = datasets.load_breast_cancer()"
   ]
  },
  {
   "cell_type": "code",
   "execution_count": 2,
   "id": "6a5e3e3b504d539",
   "metadata": {
    "ExecuteTime": {
     "end_time": "2024-04-01T15:29:03.654686Z",
     "start_time": "2024-04-01T15:29:03.651321Z"
    }
   },
   "outputs": [],
   "source": [
    "from sklearn.model_selection import train_test_split, GridSearchCV\n",
    "\n",
    "X = data_breast_cancer.data[:, [3, 4]]\n",
    "y = data_breast_cancer.target\n",
    "X_train, X_test, y_train, y_test = train_test_split(X, y, test_size=0.2, random_state=42)"
   ]
  },
  {
   "cell_type": "code",
   "execution_count": 3,
   "id": "95f8485f3b45124e",
   "metadata": {
    "ExecuteTime": {
     "end_time": "2024-04-01T15:29:03.673444Z",
     "start_time": "2024-04-01T15:29:03.655675Z"
    }
   },
   "outputs": [
    {
     "name": "stdout",
     "output_type": "stream",
     "text": [
      "0.6285714285714286 0.6228070175438597\n"
     ]
    },
    {
     "name": "stderr",
     "output_type": "stream",
     "text": [
      "/Users/bartlomiejwozniczka/Desktop/MachineLearning/.venv/lib/python3.9/site-packages/sklearn/svm/_base.py:1237: ConvergenceWarning: Liblinear failed to converge, increase the number of iterations.\n",
      "  warnings.warn(\n"
     ]
    }
   ],
   "source": [
    "from sklearn.metrics import accuracy_score\n",
    "from sklearn.pipeline import Pipeline\n",
    "from sklearn.preprocessing import StandardScaler, PolynomialFeatures\n",
    "from sklearn.svm import LinearSVC \n",
    "\n",
    "svm_clf = LinearSVC(loss='hinge', dual=True, random_state=42)\n",
    "\n",
    "svm_clf.fit(X_train, y_train)\n",
    "\n",
    "accuracy_train_standard = accuracy_score(y_train, svm_clf.predict(X_train))\n",
    "accuracy_test_standard = accuracy_score(y_test, svm_clf.predict(X_test))\n",
    "\n",
    "print(accuracy_train_standard, accuracy_test_standard)"
   ]
  },
  {
   "cell_type": "code",
   "execution_count": 4,
   "id": "d1efcfcb44e3a0ef",
   "metadata": {
    "ExecuteTime": {
     "end_time": "2024-04-01T15:29:03.680147Z",
     "start_time": "2024-04-01T15:29:03.674358Z"
    }
   },
   "outputs": [
    {
     "name": "stdout",
     "output_type": "stream",
     "text": [
      "0.8923076923076924 0.9298245614035088\n"
     ]
    }
   ],
   "source": [
    "svm_clf_pipeline = Pipeline([(\"scaler\", StandardScaler()),\n",
    "                   (\"linear_svc\", LinearSVC(C=1, loss=\"hinge\", random_state=42, dual=True))])\n",
    "\n",
    "svm_clf_pipeline.fit(X_train, y_train)\n",
    "\n",
    "accuracy_train_pipline = accuracy_score(y_train, svm_clf_pipeline.predict(X_train))\n",
    "accuracy_test_pipeline = accuracy_score(y_test, svm_clf_pipeline.predict(X_test))\n",
    "print(accuracy_train_pipline,accuracy_test_pipeline)"
   ]
  },
  {
   "cell_type": "code",
   "execution_count": 5,
   "id": "9a6ab74c39f936fb",
   "metadata": {
    "ExecuteTime": {
     "end_time": "2024-04-01T15:29:03.683396Z",
     "start_time": "2024-04-01T15:29:03.680993Z"
    }
   },
   "outputs": [],
   "source": [
    "import pickle\n",
    "\n",
    "results = [accuracy_train_standard,accuracy_test_standard, accuracy_train_pipline,accuracy_test_pipeline]\n",
    "\n",
    "with open(\"bc_acc.pkl\", \"wb\") as file:\n",
    "    pickle.dump(results, file)"
   ]
  },
  {
   "cell_type": "code",
   "execution_count": 6,
   "id": "71e9b81291551ea4",
   "metadata": {
    "ExecuteTime": {
     "end_time": "2024-04-01T15:29:03.688305Z",
     "start_time": "2024-04-01T15:29:03.684176Z"
    }
   },
   "outputs": [],
   "source": [
    "import numpy as np\n",
    "\n",
    "data_iris = datasets.load_iris()\n",
    "X = data_iris.data[:,(2,3)]\n",
    "y = (data_iris[\"target\"] == 2).astype(np.int8)\n",
    "X_train, X_test, y_train, y_test = train_test_split(X, y, test_size=0.2, random_state=42)"
   ]
  },
  {
   "cell_type": "code",
   "execution_count": 7,
   "id": "295204dc5d1a440a",
   "metadata": {
    "ExecuteTime": {
     "end_time": "2024-04-01T15:29:03.693864Z",
     "start_time": "2024-04-01T15:29:03.688970Z"
    }
   },
   "outputs": [
    {
     "name": "stdout",
     "output_type": "stream",
     "text": [
      "0.9416666666666667 1.0\n"
     ]
    },
    {
     "name": "stderr",
     "output_type": "stream",
     "text": [
      "/Users/bartlomiejwozniczka/Desktop/MachineLearning/.venv/lib/python3.9/site-packages/sklearn/svm/_base.py:1237: ConvergenceWarning: Liblinear failed to converge, increase the number of iterations.\n",
      "  warnings.warn(\n"
     ]
    }
   ],
   "source": [
    "svm_clf= LinearSVC(loss='hinge', dual=True, random_state=42)\n",
    "\n",
    "svm_clf.fit(X_train, y_train)\n",
    "\n",
    "accuracy_train_standard_i = accuracy_score(y_train, svm_clf.predict(X_train))\n",
    "accuracy_test_standard_i = accuracy_score(y_test, svm_clf.predict(X_test))\n",
    "\n",
    "print(accuracy_train_standard_i, accuracy_test_standard_i)"
   ]
  },
  {
   "cell_type": "code",
   "execution_count": 8,
   "id": "dd977cb8913bfe10",
   "metadata": {
    "ExecuteTime": {
     "end_time": "2024-04-01T15:29:03.699536Z",
     "start_time": "2024-04-01T15:29:03.694610Z"
    }
   },
   "outputs": [
    {
     "name": "stdout",
     "output_type": "stream",
     "text": [
      "0.9416666666666667 1.0\n"
     ]
    }
   ],
   "source": [
    "svm_clf_pipeline_i = Pipeline([(\"scaler\", StandardScaler()),\n",
    "                   (\"linear_svc\", LinearSVC(C=1, loss=\"hinge\", random_state=42, dual=True))])\n",
    "\n",
    "svm_clf_pipeline_i.fit(X_train, y_train)\n",
    "\n",
    "accuracy_train_pipline_i = accuracy_score(y_train, svm_clf_pipeline_i.predict(X_train))\n",
    "accuracy_test_pipeline_i = accuracy_score(y_test, svm_clf_pipeline_i.predict(X_test))\n",
    "print(accuracy_train_pipline_i,accuracy_test_pipeline_i)\n",
    "# print(svm_clf_pipeline.predict([[5.5,1.7],\n",
    "#                                [4.5,1.7]]))"
   ]
  },
  {
   "cell_type": "code",
   "execution_count": 9,
   "id": "f5016fdfac7eb178",
   "metadata": {
    "ExecuteTime": {
     "end_time": "2024-04-01T15:29:03.703013Z",
     "start_time": "2024-04-01T15:29:03.700363Z"
    }
   },
   "outputs": [],
   "source": [
    "results_2 = [accuracy_train_standard_i,accuracy_test_standard_i, accuracy_train_pipline_i,accuracy_test_pipeline_i]\n",
    "\n",
    "with open(\"iris_acc.pkl\", \"wb\") as file:\n",
    "    pickle.dump(results_2, file)"
   ]
  },
  {
   "cell_type": "code",
   "execution_count": 10,
   "id": "d88c989b72fd57c6",
   "metadata": {
    "ExecuteTime": {
     "end_time": "2024-04-01T15:29:03.801292Z",
     "start_time": "2024-04-01T15:29:03.703762Z"
    }
   },
   "outputs": [
    {
     "data": {
      "text/plain": [
       "<Axes: xlabel='x', ylabel='y'>"
      ]
     },
     "execution_count": 10,
     "metadata": {},
     "output_type": "execute_result"
    },
    {
     "data": {
      "image/png": "[encoded data removed]",
      "text/plain": [
       "<Figure size 640x480 with 1 Axes>"
      ]
     },
     "metadata": {},
     "output_type": "display_data"
    }
   ],
   "source": [
    "import pandas as pd\n",
    "\n",
    "size = 900\n",
    "X = np.random.rand(size)*5-2.5\n",
    "w4, w3, w2, w1, w0 = 1, 2, 1, -4, 2\n",
    "y = w4*(X**4) + w3*(X**3) + w2*(X**2) + w1*X + w0 + np.random.randn(size)*8-4 \n",
    "df = pd.DataFrame({'x': X, 'y': y})\n",
    "df.plot.scatter(x='x',y='y')"
   ]
  },
  {
   "cell_type": "code",
   "execution_count": 11,
   "id": "4935a55a58ab7ac0",
   "metadata": {
    "ExecuteTime": {
     "end_time": "2024-04-01T15:29:03.808008Z",
     "start_time": "2024-04-01T15:29:03.802926Z"
    }
   },
   "outputs": [],
   "source": [
    "X_train, X_test, y_train, y_test = train_test_split(df[['x']], df['y'], test_size=0.2, random_state=42)\n"
   ]
  },
  {
   "cell_type": "code",
   "execution_count": 12,
   "id": "2dc4e163ef728b00",
   "metadata": {
    "ExecuteTime": {
     "end_time": "2024-04-01T15:29:03.819313Z",
     "start_time": "2024-04-01T15:29:03.809287Z"
    }
   },
   "outputs": [
    {
     "name": "stdout",
     "output_type": "stream",
     "text": [
      "62.60953991810254 73.43369070772673\n"
     ]
    }
   ],
   "source": [
    "from sklearn.svm import LinearSVR\n",
    "from sklearn.metrics import mean_squared_error\n",
    "\n",
    "polynomial_svm_clf = Pipeline([('poly_features', PolynomialFeatures(degree=4, include_bias=False)),\n",
    "                               ('scaler', StandardScaler()),\n",
    "                               ('regressor', LinearSVR(dual=True, random_state=42))])\n",
    "\n",
    "polynomial_svm_clf.fit(X_train, y_train)\n",
    "\n",
    "y_train_pred = polynomial_svm_clf.predict(X_train)\n",
    "y_test_pred = polynomial_svm_clf.predict(X_test)\n",
    "\n",
    "mse_lg_train = mean_squared_error(y_train, y_train_pred)\n",
    "mse_lg_test = mean_squared_error(y_test, y_test_pred)\n",
    "\n",
    "print(mse_lg_train, mse_lg_test)"
   ]
  },
  {
   "cell_type": "code",
   "execution_count": 13,
   "id": "c8a2d4994f6b4bfa",
   "metadata": {
    "ExecuteTime": {
     "end_time": "2024-04-01T15:29:03.843047Z",
     "start_time": "2024-04-01T15:29:03.820407Z"
    }
   },
   "outputs": [
    {
     "name": "stdout",
     "output_type": "stream",
     "text": [
      "104.67264330105016 161.47688568844632\n"
     ]
    }
   ],
   "source": [
    "from sklearn.svm import SVR\n",
    "\n",
    "svr_poly_4 = SVR(kernel='poly', degree=4)\n",
    "\n",
    "svr_poly_4.fit(X_train, y_train)\n",
    "\n",
    "y_train_pred = svr_poly_4.predict(X_train)\n",
    "y_test_pred = svr_poly_4.predict(X_test)\n",
    "\n",
    "mse_train = mean_squared_error(y_train, y_train_pred)\n",
    "mse_test = mean_squared_error(y_test, y_test_pred)\n",
    "\n",
    "print(mse_train, mse_test)\n"
   ]
  },
  {
   "cell_type": "code",
   "execution_count": 14,
   "id": "67a68f9d2373f8e2",
   "metadata": {
    "ExecuteTime": {
     "end_time": "2024-04-01T15:29:05.088619Z",
     "start_time": "2024-04-01T15:29:03.845284Z"
    }
   },
   "outputs": [
    {
     "name": "stdout",
     "output_type": "stream",
     "text": [
      "{'C': 10, 'coef0': 1}\n"
     ]
    }
   ],
   "source": [
    "X = X.reshape(-1, 1)\n",
    "\n",
    "param_grid = {\n",
    "    'C': [0.1, 1, 10],\n",
    "    'coef0': [0.1, 1, 10]\n",
    "}\n",
    "\n",
    "search_grid = GridSearchCV(svr_poly_4, param_grid, scoring='neg_mean_squared_error', n_jobs=-1)\n",
    "\n",
    "search_grid.fit(X, y)\n",
    "\n",
    "print(search_grid.best_params_)"
   ]
  },
  {
   "cell_type": "code",
   "execution_count": 15,
   "id": "20fb4ace59c31a3f",
   "metadata": {
    "ExecuteTime": {
     "end_time": "2024-04-01T15:29:05.128194Z",
     "start_time": "2024-04-01T15:29:05.089893Z"
    }
   },
   "outputs": [
    {
     "name": "stdout",
     "output_type": "stream",
     "text": [
      "61.942754913934884 71.95203462064309\n"
     ]
    }
   ],
   "source": [
    "svr_poly_4 = SVR(kernel='poly', degree=4, C=10, coef0=1)\n",
    "\n",
    "svr_poly_4.fit(X_train, y_train)\n",
    "\n",
    "y_train_pred = svr_poly_4.predict(X_train)\n",
    "y_test_pred = svr_poly_4.predict(X_test)\n",
    "\n",
    "mse_train = mean_squared_error(y_train, y_train_pred)\n",
    "mse_test = mean_squared_error(y_test, y_test_pred)\n",
    "\n",
    "print(mse_train, mse_test)"
   ]
  },
  {
   "cell_type": "code",
   "execution_count": 16,
   "id": "6af0afe2f882d69b",
   "metadata": {
    "ExecuteTime": {
     "end_time": "2024-04-01T15:29:05.131604Z",
     "start_time": "2024-04-01T15:29:05.129352Z"
    }
   },
   "outputs": [],
   "source": [
    "results_3 = [mse_lg_train, mse_lg_test, mse_train, mse_test]"
   ]
  },
  {
   "cell_type": "code",
   "execution_count": 17,
   "id": "a4a95d0035e98be6",
   "metadata": {
    "ExecuteTime": {
     "end_time": "2024-04-01T15:29:05.138414Z",
     "start_time": "2024-04-01T15:29:05.136127Z"
    }
   },
   "outputs": [],
   "source": [
    "with open(\"reg_mse.pkl\", \"wb\") as file:\n",
    "    pickle.dump(results_3, file)"
   ]
  }
 ],
 "metadata": {
  "kernelspec": {
   "display_name": "Python 3 (ipykernel)",
   "language": "python",
   "name": "python3"
  },
  "language_info": {
   "codemirror_mode": {
    "name": "ipython",
    "version": 3
   },
   "file_extension": ".py",
   "mimetype": "text/x-python",
   "name": "python",
   "nbconvert_exporter": "python",
   "pygments_lexer": "ipython3",
   "version": "3.9.6"
  }
 },
 "nbformat": 4,
 "nbformat_minor": 5
}
