{
 "cells": [
  {
   "cell_type": "code",
   "execution_count": 1,
   "id": "initial_id",
   "metadata": {
    "ExecuteTime": {
     "end_time": "2024-04-09T09:52:56.804642Z",
     "start_time": "2024-04-09T09:52:56.783739Z"
    }
   },
   "outputs": [
    {
     "name": "stdout",
     "output_type": "stream",
     "text": [
      ".. _breast_cancer_dataset:\n",
      "\n",
      "Breast cancer wisconsin (diagnostic) dataset\n",
      "--------------------------------------------\n",
      "\n",
      "**Data Set Characteristics:**\n",
      "\n",
      ":Number of Instances: 569\n",
      "\n",
      ":Number of Attributes: 30 numeric, predictive attributes and the class\n",
      "\n",
      ":Attribute Information:\n",
      "    - radius (mean of distances from center to points on the perimeter)\n",
      "    - texture (standard deviation of gray-scale values)\n",
      "    - perimeter\n",
      "    - area\n",
      "    - smoothness (local variation in radius lengths)\n",
      "    - compactness (perimeter^2 / area - 1.0)\n",
      "    - concavity (severity of concave portions of the contour)\n",
      "    - concave points (number of concave portions of the contour)\n",
      "    - symmetry\n",
      "    - fractal dimension (\"coastline approximation\" - 1)\n",
      "\n",
      "    The mean, standard error, and \"worst\" or largest (mean of the three\n",
      "    worst/largest values) of these features were computed for each image,\n",
      "    resulting in 30 features.  For instance, field 0 is Mean Radius, field\n",
      "    10 is Radius SE, field 20 is Worst Radius.\n",
      "\n",
      "    - class:\n",
      "            - WDBC-Malignant\n",
      "            - WDBC-Benign\n",
      "\n",
      ":Summary Statistics:\n",
      "\n",
      "===================================== ====== ======\n",
      "                                        Min    Max\n",
      "===================================== ====== ======\n",
      "radius (mean):                        6.981  28.11\n",
      "texture (mean):                       9.71   39.28\n",
      "perimeter (mean):                     43.79  188.5\n",
      "area (mean):                          143.5  2501.0\n",
      "smoothness (mean):                    0.053  0.163\n",
      "compactness (mean):                   0.019  0.345\n",
      "concavity (mean):                     0.0    0.427\n",
      "concave points (mean):                0.0    0.201\n",
      "symmetry (mean):                      0.106  0.304\n",
      "fractal dimension (mean):             0.05   0.097\n",
      "radius (standard error):              0.112  2.873\n",
      "texture (standard error):             0.36   4.885\n",
      "perimeter (standard error):           0.757  21.98\n",
      "area (standard error):                6.802  542.2\n",
      "smoothness (standard error):          0.002  0.031\n",
      "compactness (standard error):         0.002  0.135\n",
      "concavity (standard error):           0.0    0.396\n",
      "concave points (standard error):      0.0    0.053\n",
      "symmetry (standard error):            0.008  0.079\n",
      "fractal dimension (standard error):   0.001  0.03\n",
      "radius (worst):                       7.93   36.04\n",
      "texture (worst):                      12.02  49.54\n",
      "perimeter (worst):                    50.41  251.2\n",
      "area (worst):                         185.2  4254.0\n",
      "smoothness (worst):                   0.071  0.223\n",
      "compactness (worst):                  0.027  1.058\n",
      "concavity (worst):                    0.0    1.252\n",
      "concave points (worst):               0.0    0.291\n",
      "symmetry (worst):                     0.156  0.664\n",
      "fractal dimension (worst):            0.055  0.208\n",
      "===================================== ====== ======\n",
      "\n",
      ":Missing Attribute Values: None\n",
      "\n",
      ":Class Distribution: 212 - Malignant, 357 - Benign\n",
      "\n",
      ":Creator:  Dr. William H. Wolberg, W. Nick Street, Olvi L. Mangasarian\n",
      "\n",
      ":Donor: Nick Street\n",
      "\n",
      ":Date: November, 1995\n",
      "\n",
      "This is a copy of UCI ML Breast Cancer Wisconsin (Diagnostic) datasets.\n",
      "https://goo.gl/U2Uwz2\n",
      "\n",
      "Features are computed from a digitized image of a fine needle\n",
      "aspirate (FNA) of a breast mass.  They describe\n",
      "characteristics of the cell nuclei present in the image.\n",
      "\n",
      "Separating plane described above was obtained using\n",
      "Multisurface Method-Tree (MSM-T) [K. P. Bennett, \"Decision Tree\n",
      "Construction Via Linear Programming.\" Proceedings of the 4th\n",
      "Midwest Artificial Intelligence and Cognitive Science Society,\n",
      "pp. 97-101, 1992], a classification method which uses linear\n",
      "programming to construct a decision tree.  Relevant features\n",
      "were selected using an exhaustive search in the space of 1-4\n",
      "features and 1-3 separating planes.\n",
      "\n",
      "The actual linear program used to obtain the separating plane\n",
      "in the 3-dimensional space is that described in:\n",
      "[K. P. Bennett and O. L. Mangasarian: \"Robust Linear\n",
      "Programming Discrimination of Two Linearly Inseparable Sets\",\n",
      "Optimization Methods and Software 1, 1992, 23-34].\n",
      "\n",
      "This database is also available through the UW CS ftp server:\n",
      "\n",
      "ftp ftp.cs.wisc.edu\n",
      "cd math-prog/cpo-dataset/machine-learn/WDBC/\n",
      "\n",
      "|details-start|\n",
      "**References**\n",
      "|details-split|\n",
      "\n",
      "- W.N. Street, W.H. Wolberg and O.L. Mangasarian. Nuclear feature extraction\n",
      "  for breast tumor diagnosis. IS&T/SPIE 1993 International Symposium on\n",
      "  Electronic Imaging: Science and Technology, volume 1905, pages 861-870,\n",
      "  San Jose, CA, 1993.\n",
      "- O.L. Mangasarian, W.N. Street and W.H. Wolberg. Breast cancer diagnosis and\n",
      "  prognosis via linear programming. Operations Research, 43(4), pages 570-577,\n",
      "  July-August 1995.\n",
      "- W.H. Wolberg, W.N. Street, and O.L. Mangasarian. Machine learning techniques\n",
      "  to diagnose breast cancer from fine-needle aspirates. Cancer Letters 77 (1994)\n",
      "  163-171.\n",
      "\n",
      "|details-end|\n",
      "\n"
     ]
    }
   ],
   "source": [
    "import graphviz\n",
    "from sklearn import datasets\n",
    "data_breast_cancer = datasets.load_breast_cancer()\n",
    "print(data_breast_cancer['DESCR'])"
   ]
  },
  {
   "cell_type": "code",
   "execution_count": 2,
   "id": "42220ed269da4bc9",
   "metadata": {
    "ExecuteTime": {
     "end_time": "2024-04-09T09:52:56.820521Z",
     "start_time": "2024-04-09T09:52:56.807098Z"
    }
   },
   "outputs": [
    {
     "name": "stdout",
     "output_type": "stream",
     "text": [
      "0.8211243611584327 0.7887323943661971 0.7692307692307693 0.7368421052631579\n"
     ]
    }
   ],
   "source": [
    "from sklearn.metrics import f1_score, accuracy_score\n",
    "from sklearn.model_selection import train_test_split\n",
    "from sklearn.tree import DecisionTreeClassifier\n",
    "\n",
    "X = data_breast_cancer.data[:, [1, 8]] \n",
    "y = data_breast_cancer.target\n",
    "\n",
    "X_train, X_test, y_train, y_test = train_test_split(X, y, test_size=0.2, random_state=42)\n",
    "\n",
    "depth = 3\n",
    "\n",
    "tree_clf = DecisionTreeClassifier(max_depth=depth, random_state=42)\n",
    "\n",
    "tree_clf.fit(X_train, y_train)\n",
    "\n",
    "y_pred_train = tree_clf.predict(X_train)\n",
    "y_pred_test = tree_clf.predict(X_test)\n",
    "\n",
    "f1_train = f1_score(y_train, y_pred_train)\n",
    "f1_test = f1_score(y_test, y_pred_test)\n",
    "\n",
    "accuracy_train = accuracy_score(y_train, tree_clf.predict(X_train))\n",
    "accuracy_test = accuracy_score(y_test, tree_clf.predict(X_test))\n",
    "\n",
    "print(f1_train, f1_test, accuracy_train, accuracy_test)\n"
   ]
  },
  {
   "cell_type": "code",
   "execution_count": 3,
   "id": "5a9146650839feb",
   "metadata": {
    "ExecuteTime": {
     "end_time": "2024-04-09T09:52:56.825968Z",
     "start_time": "2024-04-09T09:52:56.822149Z"
    }
   },
   "outputs": [],
   "source": [
    "# results = []\n",
    "# for depth in range(1,10):\n",
    "#     tree_clf = DecisionTreeClassifier(max_depth=depth, random_state=42)\n",
    "# \n",
    "#     tree_clf.fit(X_train, y_train)\n",
    "# \n",
    "#     y_pred_train = tree_clf.predict(X_train)\n",
    "#     y_pred_test = tree_clf.predict(X_test)\n",
    "# \n",
    "#     f1_train = f1_score(y_train, y_pred_train)\n",
    "#     f1_test = f1_score(y_test, y_pred_test)\n",
    "#     f1_scores = (f1_train, f1_test)\n",
    "#     results.append(f1_scores)\n",
    "# \n",
    "# print(results)\n",
    "    "
   ]
  },
  {
   "cell_type": "code",
   "execution_count": 4,
   "id": "e6238eeffb9cdbf4",
   "metadata": {
    "ExecuteTime": {
     "end_time": "2024-04-09T09:52:57.089715Z",
     "start_time": "2024-04-09T09:52:56.828275Z"
    }
   },
   "outputs": [
    {
     "data": {
      "text/plain": [
       "'bc.png'"
      ]
     },
     "execution_count": 4,
     "metadata": {},
     "output_type": "execute_result"
    }
   ],
   "source": [
    "from sklearn.tree import export_graphviz\n",
    "import graphviz\n",
    "\n",
    "f = \"bc.dot\"\n",
    "str_dot = export_graphviz(tree_clf, out_file=None, \n",
    "                feature_names=['mean texture', 'mean symmetry'],\n",
    "                class_names=['malignant', 'benign']\n",
    "                ,rounded=True,\n",
    "                filled=True)\n",
    "graph = graphviz.Source(str_dot)\n",
    "\n",
    "graph.render(filename='bc', format='png')"
   ]
  },
  {
   "cell_type": "code",
   "execution_count": 5,
   "id": "d2e7bf02c9836ac5",
   "metadata": {
    "ExecuteTime": {
     "end_time": "2024-04-09T09:52:57.096017Z",
     "start_time": "2024-04-09T09:52:57.090875Z"
    }
   },
   "outputs": [],
   "source": [
    "import pickle\n",
    "\n",
    "array = [depth, f1_train, f1_test, accuracy_train, accuracy_test]\n",
    "\n",
    "with open(\"f1acc_tree.pkl\", \"wb\") as file:\n",
    "    pickle.dump(array, file)"
   ]
  },
  {
   "cell_type": "code",
   "execution_count": 6,
   "id": "9d1e68dc18542e1b",
   "metadata": {
    "ExecuteTime": {
     "end_time": "2024-04-09T09:52:57.232901Z",
     "start_time": "2024-04-09T09:52:57.096941Z"
    }
   },
   "outputs": [
    {
     "data": {
      "text/plain": [
       "<Axes: xlabel='x', ylabel='y'>"
      ]
     },
     "execution_count": 6,
     "metadata": {},
     "output_type": "execute_result"
    },
    {
     "data": {
      "image/png": "[encoded data removed]",
      "text/plain": [
       "<Figure size 640x480 with 1 Axes>"
      ]
     },
     "metadata": {},
     "output_type": "display_data"
    }
   ],
   "source": [
    "import numpy as np\n",
    "import pandas as pd\n",
    "size = 300\n",
    "X = np.random.rand(size)*5-2.5\n",
    "w4, w3, w2, w1, w0 = 1, 2, 1, -4, 2\n",
    "y = w4*(X**4) + w3*(X**3) + w2*(X**2) + w1*X + w0 + np.random.randn(size)*8-4 \n",
    "df = pd.DataFrame({'x': X, 'y': y})\n",
    "df.plot.scatter(x='x',y='y')"
   ]
  },
  {
   "cell_type": "code",
   "execution_count": 7,
   "id": "df9712f0638ed1f8",
   "metadata": {
    "ExecuteTime": {
     "end_time": "2024-04-09T09:52:57.244151Z",
     "start_time": "2024-04-09T09:52:57.235807Z"
    }
   },
   "outputs": [],
   "source": [
    "X_train, X_test, y_train, y_test = train_test_split(df[['x']], df['y'], test_size=0.2, random_state=42)"
   ]
  },
  {
   "cell_type": "code",
   "execution_count": 8,
   "id": "b49d802585acac0d",
   "metadata": {
    "ExecuteTime": {
     "end_time": "2024-04-09T09:53:12.910036Z",
     "start_time": "2024-04-09T09:53:12.872143Z"
    }
   },
   "outputs": [],
   "source": [
    "from sklearn.metrics import mean_squared_error\n",
    "from sklearn.tree import DecisionTreeRegressor\n",
    "\n",
    "# results = []\n",
    "# for depth in range(1,9):\n",
    "#     tree_clf = DecisionTreeRegressor(max_depth=depth, random_state=42)\n",
    "# \n",
    "#     tree_clf.fit(X_train, y_train)\n",
    "# \n",
    "#     y_train_pred = tree_clf.predict(X_train)\n",
    "#     y_test_pred = tree_clf.predict(X_test)\n",
    "# \n",
    "#     mse_train = mean_squared_error(y_train, y_train_pred)\n",
    "#     mse_test = mean_squared_error(y_test, y_test_pred)\n",
    "# \n",
    "#     mse_score = (mse_train, mse_test)\n",
    "#     results.append(mse_score)\n",
    "# \n",
    "# print(results)"
   ]
  },
  {
   "cell_type": "code",
   "execution_count": 9,
   "id": "920f8e3d58696a5d",
   "metadata": {
    "ExecuteTime": {
     "end_time": "2024-04-09T09:52:57.266495Z",
     "start_time": "2024-04-09T09:52:57.257268Z"
    }
   },
   "outputs": [],
   "source": [
    "tree_clf = DecisionTreeRegressor(max_depth=4, random_state=42)\n",
    "\n",
    "tree_clf.fit(X_train, y_train)\n",
    "\n",
    "y_train_pred = tree_clf.predict(X_train)\n",
    "y_test_pred = tree_clf.predict(X_test)\n",
    "\n",
    "mse_train = mean_squared_error(y_train, y_train_pred)\n",
    "mse_test = mean_squared_error(y_test, y_test_pred)"
   ]
  },
  {
   "cell_type": "code",
   "execution_count": 10,
   "id": "8a882e0e42e75b2",
   "metadata": {
    "ExecuteTime": {
     "end_time": "2024-04-09T09:52:57.514791Z",
     "start_time": "2024-04-09T09:52:57.283281Z"
    }
   },
   "outputs": [
    {
     "data": {
      "text/plain": [
       "'reg.png'"
      ]
     },
     "execution_count": 10,
     "metadata": {},
     "output_type": "execute_result"
    }
   ],
   "source": [
    "str_dot = export_graphviz(tree_clf, out_file=None,\n",
    "                rounded=True,\n",
    "                filled=True)\n",
    "graph = graphviz.Source(str_dot)\n",
    "\n",
    "graph.render(filename='reg', format='png')"
   ]
  },
  {
   "cell_type": "code",
   "execution_count": 11,
   "id": "c5db9426523a0d3b",
   "metadata": {
    "ExecuteTime": {
     "end_time": "2024-04-09T09:53:02.307240Z",
     "start_time": "2024-04-09T09:53:02.285160Z"
    }
   },
   "outputs": [
    {
     "name": "stdout",
     "output_type": "stream",
     "text": [
      "[4, 53.99066419635856, 77.33005461409408]\n"
     ]
    }
   ],
   "source": [
    "array2 = [4, mse_train, mse_test]\n",
    "print(array2)"
   ]
  },
  {
   "cell_type": "code",
   "execution_count": 12,
   "id": "fa4ed5fbaadee2dc",
   "metadata": {
    "ExecuteTime": {
     "end_time": "2024-04-09T09:52:57.522121Z",
     "start_time": "2024-04-09T09:52:57.519428Z"
    }
   },
   "outputs": [],
   "source": [
    "with open(\"mse_tree.pkl\", \"wb\") as file:\n",
    "    pickle.dump(array2, file)"
   ]
  }
 ],
 "metadata": {
  "kernelspec": {
   "display_name": "Python 3 (ipykernel)",
   "language": "python",
   "name": "python3"
  },
  "language_info": {
   "codemirror_mode": {
    "name": "ipython",
    "version": 3
   },
   "file_extension": ".py",
   "mimetype": "text/x-python",
   "name": "python",
   "nbconvert_exporter": "python",
   "pygments_lexer": "ipython3",
   "version": "3.9.6"
  }
 },
 "nbformat": 4,
 "nbformat_minor": 5
}
